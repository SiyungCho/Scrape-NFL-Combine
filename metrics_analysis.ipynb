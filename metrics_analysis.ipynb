{
 "cells": [
  {
   "cell_type": "code",
   "execution_count": 1,
   "metadata": {},
   "outputs": [],
   "source": [
    "import tensorflow as tf\n",
    "import pandas as pd\n",
    "import matplotlib.pyplot as plt\n",
    "from sklearn.model_selection import train_test_split\n",
    "from sklearn.metrics import accuracy_score, precision_score, recall_score, f1_score, roc_auc_score\n",
    "from sklearn.preprocessing import OneHotEncoder, StandardScaler\n",
    "import numpy as np\n",
    "import seaborn as sns"
   ]
  },
  {
   "cell_type": "code",
   "execution_count": 2,
   "metadata": {},
   "outputs": [
    {
     "name": "stdout",
     "output_type": "stream",
     "text": [
      "Model: \"sequential\"\n",
      "_________________________________________________________________\n",
      " Layer (type)                Output Shape              Param #   \n",
      "=================================================================\n",
      " dense (Dense)               (None, 32)                1856      \n",
      "                                                                 \n",
      " dense_1 (Dense)             (None, 64)                2112      \n",
      "                                                                 \n",
      " dense_2 (Dense)             (None, 128)               8320      \n",
      "                                                                 \n",
      " dense_3 (Dense)             (None, 1)                 129       \n",
      "                                                                 \n",
      "=================================================================\n",
      "Total params: 12417 (48.50 KB)\n",
      "Trainable params: 12417 (48.50 KB)\n",
      "Non-trainable params: 0 (0.00 Byte)\n",
      "_________________________________________________________________\n"
     ]
    }
   ],
   "source": [
    "model = tf.keras.models.load_model('combine_prediction_model.keras')\n",
    "model.summary()"
   ]
  },
  {
   "cell_type": "code",
   "execution_count": 3,
   "metadata": {},
   "outputs": [
    {
     "name": "stdout",
     "output_type": "stream",
     "text": [
      "   Year POS  Height (in)  Weight (lbs)  40 Yard  Bench Press  Vert Leap (in)  \\\n",
      "0  2009   K        72.88           220     4.78           22            33.0   \n",
      "1  1989  DE        75.50           256     4.85           20            31.4   \n",
      "2  2020  DE        76.88           264     4.74           20            33.5   \n",
      "3  2016  WR        68.13           185     4.29           13            40.5   \n",
      "4  1994   C        74.60           270     4.90           19            30.7   \n",
      "\n",
      "   Broad Jump (in)  Shuttle  3Cone  Pro Bowl  \n",
      "0              113     4.45   7.31         1  \n",
      "1              110     4.44   7.31         1  \n",
      "2              116     4.46   7.31         1  \n",
      "3              129     4.06   6.53         1  \n",
      "4              111     4.47   7.31         1  \n"
     ]
    }
   ],
   "source": [
    "sampled_df = pd.read_csv('sampled_data.csv')\n",
    "print(sampled_df.head())"
   ]
  },
  {
   "cell_type": "code",
   "execution_count": 4,
   "metadata": {},
   "outputs": [],
   "source": [
    "categorical_col = ['Year', 'POS']\n",
    "encoder = OneHotEncoder()\n",
    "encoded_features = encoder.fit_transform(sampled_df[categorical_col]).toarray()"
   ]
  },
  {
   "cell_type": "code",
   "execution_count": 5,
   "metadata": {},
   "outputs": [],
   "source": [
    "numerical_col = [\"Height (in)\", \"Weight (lbs)\", \"40 Yard\", \"Bench Press\", \"Vert Leap (in)\", \"Broad Jump (in)\", \"Shuttle\", \"3Cone\"]\n",
    "scalar = StandardScaler()\n",
    "scaled_numerical_features = scalar.fit_transform(sampled_df[numerical_col])"
   ]
  },
  {
   "cell_type": "code",
   "execution_count": 6,
   "metadata": {},
   "outputs": [
    {
     "name": "stdout",
     "output_type": "stream",
     "text": [
      "    0    1    2    3    4    5    6    7    8    9   ...   47   48        0   \\\n",
      "0  0.0  0.0  0.0  0.0  0.0  0.0  0.0  0.0  0.0  0.0  ...  0.0  0.0 -0.353978   \n",
      "1  0.0  0.0  1.0  0.0  0.0  0.0  0.0  0.0  0.0  0.0  ...  0.0  0.0  0.641482   \n",
      "2  0.0  0.0  0.0  0.0  0.0  0.0  0.0  0.0  0.0  0.0  ...  0.0  0.0  1.165809   \n",
      "3  0.0  0.0  0.0  0.0  0.0  0.0  0.0  0.0  0.0  0.0  ...  0.0  1.0 -2.158725   \n",
      "4  0.0  0.0  0.0  0.0  0.0  0.0  0.0  1.0  0.0  0.0  ...  0.0  0.0  0.299530   \n",
      "\n",
      "         1         2         3         4         5         6         7   \n",
      "0 -0.458351 -0.012407  0.341786  0.081594 -0.152096  0.246981  0.087014  \n",
      "1  0.353445  0.236111 -0.011422 -0.320301 -0.503379  0.202489  0.087014  \n",
      "2  0.533844 -0.154417 -0.011422  0.207186  0.199188  0.291473  0.087014  \n",
      "3 -1.247598 -1.752029 -1.247649  1.965474  1.721417 -1.488221 -2.464217  \n",
      "4  0.669144  0.413623 -0.188026 -0.496129 -0.386285  0.335966  0.087014  \n",
      "\n",
      "[5 rows x 57 columns]\n"
     ]
    }
   ],
   "source": [
    "preprocessed_data = pd.concat([pd.DataFrame(encoded_features), pd.DataFrame(scaled_numerical_features)], axis=1)\n",
    "print(preprocessed_data.head())"
   ]
  },
  {
   "cell_type": "code",
   "execution_count": 7,
   "metadata": {},
   "outputs": [],
   "source": [
    "labels = sampled_df[\"Pro Bowl\"]\n",
    "X_train, X_test, y_train, y_test = train_test_split(preprocessed_data, labels, test_size=0.1, random_state=42)"
   ]
  },
  {
   "cell_type": "code",
   "execution_count": 8,
   "metadata": {},
   "outputs": [],
   "source": [
    "#print(X_test)\n",
    "#print(y_test)\n",
    "#print(labels)"
   ]
  },
  {
   "cell_type": "code",
   "execution_count": 9,
   "metadata": {},
   "outputs": [],
   "source": [
    "X_test = np.array(X_test)\n",
    "y_test = np.array(y_test)"
   ]
  },
  {
   "cell_type": "code",
   "execution_count": 10,
   "metadata": {},
   "outputs": [
    {
     "name": "stdout",
     "output_type": "stream",
     "text": [
      "6/6 [==============================] - 0s 600us/step\n"
     ]
    }
   ],
   "source": [
    "pred_results = model.predict(X_test)"
   ]
  },
  {
   "cell_type": "code",
   "execution_count": 11,
   "metadata": {},
   "outputs": [
    {
     "name": "stdout",
     "output_type": "stream",
     "text": [
      "Accuracy: 0.592391304347826\n",
      "Precision: 0.5423728813559322\n",
      "Recall: 0.7529411764705882\n",
      "F1-score: 0.6305418719211823\n",
      "ROC AUC: 0.6263814616755793\n"
     ]
    }
   ],
   "source": [
    "# Calculate accuracy\n",
    "accuracy = accuracy_score(y_test, pred_results.round())  # Round to 0 or 1 for binary classification\n",
    "\n",
    "# Calculate precision\n",
    "precision = precision_score(y_test, pred_results.round())\n",
    "\n",
    "# Calculate recall\n",
    "recall = recall_score(y_test, pred_results.round())\n",
    "\n",
    "# Calculate F1-score\n",
    "f1 = f1_score(y_test, pred_results.round())\n",
    "\n",
    "# Calculate ROC AUC score (only applicable for binary classification)\n",
    "roc_auc = roc_auc_score(y_test, pred_results)\n",
    "\n",
    "# Print the calculated metrics\n",
    "print(\"Accuracy:\", accuracy)\n",
    "print(\"Precision:\", precision)\n",
    "print(\"Recall:\", recall)\n",
    "print(\"F1-score:\", f1)\n",
    "print(\"ROC AUC:\", roc_auc)"
   ]
  },
  {
   "cell_type": "code",
   "execution_count": 12,
   "metadata": {},
   "outputs": [
    {
     "data": {
      "image/png": "[encoded data removed]",
      "text/plain": [
       "<Figure size 1000x600 with 1 Axes>"
      ]
     },
     "metadata": {},
     "output_type": "display_data"
    }
   ],
   "source": [
    "# Define the metric names and corresponding values\n",
    "metric_names = [\"Accuracy\", \"Precision\", \"Recall\", \"F1-score\", \"ROC AUC\"]\n",
    "metric_values = [accuracy, precision, recall, f1, roc_auc]\n",
    "\n",
    "# Create a bar plot\n",
    "plt.figure(figsize=(10, 6))\n",
    "sns.barplot(x=metric_values, y=metric_names, palette=\"viridis\")\n",
    "plt.xlabel(\"Metric Value\")\n",
    "plt.title(\"Model Evaluation Metrics\")\n",
    "plt.xlim(0, 1)  # Set the x-axis limit to match the range of metric values (0 to 1)\n",
    "plt.show()"
   ]
  }
 ],
 "metadata": {
  "kernelspec": {
   "display_name": "tf_env",
   "language": "python",
   "name": "python3"
  },
  "language_info": {
   "codemirror_mode": {
    "name": "ipython",
    "version": 3
   },
   "file_extension": ".py",
   "mimetype": "text/x-python",
   "name": "python",
   "nbconvert_exporter": "python",
   "pygments_lexer": "ipython3",
   "version": "3.11.0"
  },
  "orig_nbformat": 4
 },
 "nbformat": 4,
 "nbformat_minor": 2
}
