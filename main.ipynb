{
 "cells": [
  {
   "cell_type": "code",
   "execution_count": 2,
   "metadata": {},
   "outputs": [],
   "source": [
    "from scrape_headers import col_names"
   ]
  },
  {
   "cell_type": "code",
   "execution_count": 3,
   "metadata": {},
   "outputs": [],
   "source": [
    "from all_pro_scrapper import all_pro_players"
   ]
  },
  {
   "cell_type": "code",
   "execution_count": 4,
   "metadata": {},
   "outputs": [],
   "source": [
    "from all_players_scrapper import data_table"
   ]
  },
  {
   "cell_type": "code",
   "execution_count": 284,
   "metadata": {},
   "outputs": [
    {
     "name": "stdout",
     "output_type": "stream",
     "text": [
      "   Year             Name               College POS Height (in) Weight (lbs)  \\\n",
      "0  1987       Mike Adams         Arizona State  CB       69.80          198   \n",
      "1  1987     John Adickes                Baylor   C       74.80          266   \n",
      "2  1987       Tommy Agee                Auburn  FB       71.80          217   \n",
      "3  1987  David Alexander            Tulsa (OK)   C       75.00          279   \n",
      "4  1987    Lyneal Alston  Southern Mississippi  WR       72.10          202   \n",
      "\n",
      "  Wonderlic 40 Yard Bench Press Vert Leap (in) Broad Jump (in) Shuttle 3Cone  \n",
      "0         0    4.42          13           32.0             118    4.60     0  \n",
      "1         0    4.97          25           26.5             103    4.60     0  \n",
      "2         0       0          15              0               0       0     0  \n",
      "3         0    5.13          22           27.5             105    4.33     0  \n",
      "4         0    4.64           7           32.0             114    4.52     0  \n"
     ]
    }
   ],
   "source": [
    "import pandas as pd\n",
    "df_all_players = pd.DataFrame(data_table, columns=col_names)\n",
    "print(df_all_players.head())"
   ]
  },
  {
   "cell_type": "code",
   "execution_count": 285,
   "metadata": {},
   "outputs": [
    {
     "name": "stdout",
     "output_type": "stream",
     "text": [
      "   Year             Name               College POS Height (in) Weight (lbs)  \\\n",
      "0  1987       Mike Adams         Arizona State  CB       69.80          198   \n",
      "1  1987     John Adickes                Baylor   C       74.80          266   \n",
      "2  1987       Tommy Agee                Auburn  FB       71.80          217   \n",
      "3  1987  David Alexander            Tulsa (OK)   C       75.00          279   \n",
      "4  1987    Lyneal Alston  Southern Mississippi  WR       72.10          202   \n",
      "\n",
      "  40 Yard Bench Press Vert Leap (in) Broad Jump (in) Shuttle 3Cone  \n",
      "0    4.42          13           32.0             118    4.60     0  \n",
      "1    4.97          25           26.5             103    4.60     0  \n",
      "2       0          15              0               0       0     0  \n",
      "3    5.13          22           27.5             105    4.33     0  \n",
      "4    4.64           7           32.0             114    4.52     0  \n"
     ]
    }
   ],
   "source": [
    "df_all_players = df_all_players.dropna(subset=df_all_players.columns, how='any')\n",
    "df_all_players = df_all_players.drop('Wonderlic', axis=1)\n",
    "print(df_all_players.head())"
   ]
  },
  {
   "cell_type": "code",
   "execution_count": 286,
   "metadata": {},
   "outputs": [],
   "source": [
    "def get_yearly_avg(metric, subset_values):\n",
    "    sum = 0.0\n",
    "    count=0\n",
    "    for ind, val in subset_values.iterrows():\n",
    "        if val[0] != '0':\n",
    "            sum += float(val[0])\n",
    "            count += 1\n",
    "\n",
    "    if(metric=='40 Yard' or metric=='Shuttle' or metric=='3Cone'):\n",
    "        return str(round(sum/count, 2))\n",
    "    elif(metric=='Vert Leap (in)'):\n",
    "        return str(round(sum/count, 1))\n",
    "    else:\n",
    "        return str(round(sum/count))"
   ]
  },
  {
   "cell_type": "code",
   "execution_count": 287,
   "metadata": {},
   "outputs": [],
   "source": [
    "def fill_year_metric(metric, avg_val, subset):\n",
    "    for ind, val in subset[[metric]].iterrows():\n",
    "        if val[0] == '0':\n",
    "            subset.loc[ind][metric] = avg_val\n",
    "    return subset"
   ]
  },
  {
   "cell_type": "code",
   "execution_count": 288,
   "metadata": {},
   "outputs": [
    {
     "name": "stdout",
     "output_type": "stream",
     "text": [
      "   Year             Name               College POS Height (in) Weight (lbs)  \\\n",
      "0  1987       Mike Adams         Arizona State  CB       69.80          198   \n",
      "1  1987     John Adickes                Baylor   C       74.80          266   \n",
      "2  1987       Tommy Agee                Auburn  FB       71.80          217   \n",
      "3  1987  David Alexander            Tulsa (OK)   C       75.00          279   \n",
      "4  1987    Lyneal Alston  Southern Mississippi  WR       72.10          202   \n",
      "\n",
      "  40 Yard Bench Press Vert Leap (in) Broad Jump (in) Shuttle 3Cone  \n",
      "0    4.42          13           32.0             118    4.60     0  \n",
      "1    4.97          25           26.5             103    4.60     0  \n",
      "2    4.81          15           28.7             109    4.45     0  \n",
      "3    5.13          22           27.5             105    4.33     0  \n",
      "4    4.64           7           32.0             114    4.52     0  \n"
     ]
    }
   ],
   "source": [
    "list_of_metrics = ['40 Yard', 'Bench Press', 'Vert Leap (in)', 'Broad Jump (in)', 'Shuttle']\n",
    "for year in range(1987, 2024):\n",
    "    year_subset = df_all_players[df_all_players['Year']==str(year)]\n",
    "    for metric in list_of_metrics:\n",
    "        avg = get_yearly_avg(metric, year_subset[[metric]])\n",
    "        year_subset = fill_year_metric(metric, avg, year_subset)\n",
    "    df_all_players[df_all_players['Year']==str(year)] = year_subset\n",
    "\n",
    "print(df_all_players.head())"
   ]
  },
  {
   "cell_type": "code",
   "execution_count": 289,
   "metadata": {},
   "outputs": [],
   "source": [
    "def fill_3Cone(set):\n",
    "    metric = '3Cone'\n",
    "    avg = get_yearly_avg(metric, set[[metric]])\n",
    "\n",
    "    for ind, val in set[[metric]].iterrows():\n",
    "        if val[0] == '0':\n",
    "            set.loc[ind][metric] = avg\n",
    "    return set"
   ]
  },
  {
   "cell_type": "code",
   "execution_count": 291,
   "metadata": {},
   "outputs": [
    {
     "name": "stdout",
     "output_type": "stream",
     "text": [
      "   Year             Name               College POS Height (in) Weight (lbs)  \\\n",
      "0  1987       Mike Adams         Arizona State  CB       69.80          198   \n",
      "1  1987     John Adickes                Baylor   C       74.80          266   \n",
      "2  1987       Tommy Agee                Auburn  FB       71.80          217   \n",
      "3  1987  David Alexander            Tulsa (OK)   C       75.00          279   \n",
      "4  1987    Lyneal Alston  Southern Mississippi  WR       72.10          202   \n",
      "\n",
      "  40 Yard Bench Press Vert Leap (in) Broad Jump (in) Shuttle 3Cone  \n",
      "0    4.42          13           32.0             118    4.60  7.31  \n",
      "1    4.97          25           26.5             103    4.60  7.31  \n",
      "2    4.81          15           28.7             109    4.45  7.31  \n",
      "3    5.13          22           27.5             105    4.33  7.31  \n",
      "4    4.64           7           32.0             114    4.52  7.31  \n"
     ]
    }
   ],
   "source": [
    "df_all_players = fill_3Cone(df_all_players)\n",
    "print(df_all_players.head())"
   ]
  },
  {
   "cell_type": "code",
   "execution_count": 293,
   "metadata": {},
   "outputs": [],
   "source": [
    "df_all_players.to_csv('all_combine_dataset.csv', index=False)"
   ]
  },
  {
   "cell_type": "code",
   "execution_count": null,
   "metadata": {},
   "outputs": [],
   "source": []
  }
 ],
 "metadata": {
  "kernelspec": {
   "display_name": "base",
   "language": "python",
   "name": "python3"
  },
  "language_info": {
   "codemirror_mode": {
    "name": "ipython",
    "version": 3
   },
   "file_extension": ".py",
   "mimetype": "text/x-python",
   "name": "python",
   "nbconvert_exporter": "python",
   "pygments_lexer": "ipython3",
   "version": "3.11.4"
  },
  "orig_nbformat": 4
 },
 "nbformat": 4,
 "nbformat_minor": 2
}
