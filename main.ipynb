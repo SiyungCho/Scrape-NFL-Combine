{
 "cells": [
  {
   "cell_type": "code",
   "execution_count": 3,
   "metadata": {},
   "outputs": [],
   "source": [
    "from scrape_headers import col_names"
   ]
  },
  {
   "cell_type": "code",
   "execution_count": 4,
   "metadata": {},
   "outputs": [],
   "source": [
    "from all_pro_scrapper import all_pro_players"
   ]
  },
  {
   "cell_type": "code",
   "execution_count": 5,
   "metadata": {},
   "outputs": [],
   "source": [
    "from all_players_scrapper import data_table"
   ]
  },
  {
   "cell_type": "code",
   "execution_count": 6,
   "metadata": {},
   "outputs": [
    {
     "name": "stdout",
     "output_type": "stream",
     "text": [
      "       Year             Name               College   POS Height (in)  \\\n",
      "0      1987       Mike Adams         Arizona State    CB       69.80   \n",
      "1      1987     John Adickes                Baylor     C       74.80   \n",
      "2      1987       Tommy Agee                Auburn    FB       71.80   \n",
      "3      1987  David Alexander            Tulsa (OK)     C       75.00   \n",
      "4      1987    Lyneal Alston  Southern Mississippi    WR       72.10   \n",
      "...     ...              ...                   ...   ...         ...   \n",
      "13882  2023      Bryce Young               Alabama    QB       70.13   \n",
      "13883  2023      Byron Young               Alabama    DT       75.38   \n",
      "13884  2023      Byron Young             Tennessee   OLB       74.38   \n",
      "13885  2023    Cameron Young     Mississippi State    DT       75.38   \n",
      "13886     0             None                  None  None        None   \n",
      "\n",
      "      Weight (lbs) Wonderlic 40 Yard Bench Press Vert Leap (in)  \\\n",
      "0              198         0    4.42          13           32.0   \n",
      "1              266         0    4.97          25           26.5   \n",
      "2              217         0       0          15              0   \n",
      "3              279         0    5.13          22           27.5   \n",
      "4              202         0    4.64           7           32.0   \n",
      "...            ...       ...     ...         ...            ...   \n",
      "13882          204         0       0           0              0   \n",
      "13883          294         0       0          24           26.0   \n",
      "13884          250         0    4.40          22           38.0   \n",
      "13885          304         0    5.10           0              0   \n",
      "13886         None      None    None        None           None   \n",
      "\n",
      "      Broad Jump (in) Shuttle 3Cone  \n",
      "0                 118    4.60     0  \n",
      "1                 103    4.60     0  \n",
      "2                   0       0     0  \n",
      "3                 105    4.33     0  \n",
      "4                 114    4.52     0  \n",
      "...               ...     ...   ...  \n",
      "13882               0       0     0  \n",
      "13883             108       0  7.68  \n",
      "13884             132       0  7.19  \n",
      "13885               0       0     0  \n",
      "13886            None    None  None  \n",
      "\n",
      "[13887 rows x 13 columns]\n"
     ]
    }
   ],
   "source": [
    "import pandas as pd\n",
    "df_all_players = pd.DataFrame(data_table, columns=col_names)\n",
    "print(df_all_players)"
   ]
  }
 ],
 "metadata": {
  "kernelspec": {
   "display_name": "base",
   "language": "python",
   "name": "python3"
  },
  "language_info": {
   "codemirror_mode": {
    "name": "ipython",
    "version": 3
   },
   "file_extension": ".py",
   "mimetype": "text/x-python",
   "name": "python",
   "nbconvert_exporter": "python",
   "pygments_lexer": "ipython3",
   "version": "3.11.4"
  },
  "orig_nbformat": 4
 },
 "nbformat": 4,
 "nbformat_minor": 2
}
