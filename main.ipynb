{
 "cells": [
  {
   "cell_type": "code",
   "execution_count": 66,
   "metadata": {},
   "outputs": [],
   "source": [
    "from scrape_headers import col_names"
   ]
  },
  {
   "cell_type": "code",
   "execution_count": 67,
   "metadata": {},
   "outputs": [],
   "source": [
    "from all_pro_scrapper import all_pro_players"
   ]
  },
  {
   "cell_type": "code",
   "execution_count": 68,
   "metadata": {},
   "outputs": [
    {
     "ename": "ImportError",
     "evalue": "cannot import name 'data_table' from 'all_players_scrapper' (c:\\Users\\siyun\\OneDrive\\Desktop\\Python Scripts\\Scrape-NFL-Combine\\all_players_scrapper.py)",
     "output_type": "error",
     "traceback": [
      "\u001b[1;31m---------------------------------------------------------------------------\u001b[0m",
      "\u001b[1;31mImportError\u001b[0m                               Traceback (most recent call last)",
      "Cell \u001b[1;32mIn[68], line 1\u001b[0m\n\u001b[1;32m----> 1\u001b[0m \u001b[39mfrom\u001b[39;00m \u001b[39mall_players_scrapper\u001b[39;00m \u001b[39mimport\u001b[39;00m data_table\n",
      "\u001b[1;31mImportError\u001b[0m: cannot import name 'data_table' from 'all_players_scrapper' (c:\\Users\\siyun\\OneDrive\\Desktop\\Python Scripts\\Scrape-NFL-Combine\\all_players_scrapper.py)"
     ]
    }
   ],
   "source": [
    "from all_players_scrapper import data_table"
   ]
  },
  {
   "cell_type": "code",
   "execution_count": null,
   "metadata": {},
   "outputs": [
    {
     "name": "stdout",
     "output_type": "stream",
     "text": [
      "Empty DataFrame\n",
      "Columns: [Year, Name, College, POS, Height (in), Weight (lbs), 40 Yard, Bench Press, Vert Leap (in), Broad Jump (in), Shuttle, 3Cone]\n",
      "Index: []\n"
     ]
    }
   ],
   "source": [
    "import pandas as pd\n",
    "df_all_players = pd.DataFrame(data_table, columns=col_names)\n",
    "print(df_all_players)\n",
    "\n",
    "df_all_pro_players = pd.DataFrame(all_pro_players, columns=col_names)\n",
    "print(df_all_pro_players)"
   ]
  }
 ],
 "metadata": {
  "kernelspec": {
   "display_name": "base",
   "language": "python",
   "name": "python3"
  },
  "language_info": {
   "codemirror_mode": {
    "name": "ipython",
    "version": 3
   },
   "file_extension": ".py",
   "mimetype": "text/x-python",
   "name": "python",
   "nbconvert_exporter": "python",
   "pygments_lexer": "ipython3",
   "version": "3.11.4"
  },
  "orig_nbformat": 4
 },
 "nbformat": 4,
 "nbformat_minor": 2
}
