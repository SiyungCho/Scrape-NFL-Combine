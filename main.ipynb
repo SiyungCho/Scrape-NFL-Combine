{
 "cells": [
  {
   "cell_type": "code",
   "execution_count": 61,
   "metadata": {},
   "outputs": [
    {
     "ename": "ModuleNotFoundError",
     "evalue": "No module named 'tensorflow'",
     "output_type": "error",
     "traceback": [
      "\u001b[1;31m---------------------------------------------------------------------------\u001b[0m",
      "\u001b[1;31mModuleNotFoundError\u001b[0m                       Traceback (most recent call last)",
      "Cell \u001b[1;32mIn[61], line 2\u001b[0m\n\u001b[0;32m      1\u001b[0m \u001b[39mimport\u001b[39;00m \u001b[39mpandas\u001b[39;00m \u001b[39mas\u001b[39;00m \u001b[39mpd\u001b[39;00m\n\u001b[1;32m----> 2\u001b[0m \u001b[39mimport\u001b[39;00m \u001b[39mtensorflow\u001b[39;00m \u001b[39mas\u001b[39;00m \u001b[39mtf\u001b[39;00m\n\u001b[0;32m      3\u001b[0m \u001b[39mfrom\u001b[39;00m \u001b[39msklearn\u001b[39;00m\u001b[39m.\u001b[39;00m\u001b[39mmodel_selection\u001b[39;00m \u001b[39mimport\u001b[39;00m train_test_split\n",
      "\u001b[1;31mModuleNotFoundError\u001b[0m: No module named 'tensorflow'"
     ]
    }
   ],
   "source": [
    "import pandas as pd\n",
    "import tensorflow as tf\n",
    "from sklearn.model_selection import train_test_split"
   ]
  },
  {
   "cell_type": "code",
   "execution_count": null,
   "metadata": {},
   "outputs": [
    {
     "name": "stdout",
     "output_type": "stream",
     "text": [
      "   Year              Name               College POS  Height (in)  \\\n",
      "0  1987        Mike Adams         Arizona State  CB         69.8   \n",
      "1  1987      John Adickes                Baylor   C         74.8   \n",
      "2  1987        Tommy Agee                Auburn  FB         71.8   \n",
      "3  1987   David Alexander            Tulsa (OK)   C         75.0   \n",
      "4  1987     Lyneal Alston  Southern Mississippi  WR         72.1   \n",
      "5  1987      Steve Alvord            Washington  DE         76.5   \n",
      "6  1987  Anthony Anderson  Grambling State (LA)  CB         73.6   \n",
      "7  1987    Joe Armentrout             Wisconsin  FB         72.3   \n",
      "8  1987   Bruce Armstrong            Louisville  OT         76.0   \n",
      "9  1987       Gene Atkins           Florida A&M  FS         71.3   \n",
      "\n",
      "   Weight (lbs)  40 Yard  Bench Press  Vert Leap (in)  Broad Jump (in)  \\\n",
      "0           198     4.42           13            32.0              118   \n",
      "1           266     4.97           25            26.5              103   \n",
      "2           217     4.81           15            28.7              109   \n",
      "3           279     5.13           22            27.5              105   \n",
      "4           202     4.64            7            32.0              114   \n",
      "5           273     4.86           18            28.5              108   \n",
      "6           208     4.69           15            31.0              111   \n",
      "7           220     4.71           18            31.0              116   \n",
      "8           284     5.05           22            27.0              100   \n",
      "9           191     4.58           14            31.0              120   \n",
      "\n",
      "   Shuttle  3Cone  Pro Bowl  \n",
      "0     4.60   7.31         0  \n",
      "1     4.60   7.31         0  \n",
      "2     4.45   7.31         0  \n",
      "3     4.33   7.31         0  \n",
      "4     4.52   7.31         0  \n",
      "5     4.49   7.31         0  \n",
      "6     4.48   7.31         0  \n",
      "7     4.16   7.31         0  \n",
      "8     4.81   7.31         1  \n",
      "9     4.55   7.31         0  \n"
     ]
    }
   ],
   "source": [
    "df = pd.read_csv('final_dataset.csv')\n",
    "print(df.head(10))"
   ]
  },
  {
   "cell_type": "code",
   "execution_count": null,
   "metadata": {},
   "outputs": [],
   "source": [
    "X = df.drop(columns=['Pro Bowl'])\n",
    "y = df['Pro Bowl']\n",
    "X_train, X_test, y_train, y_test = train_test_split(X, y, test_size=0.2, random_state=42)"
   ]
  },
  {
   "cell_type": "code",
   "execution_count": null,
   "metadata": {},
   "outputs": [],
   "source": [
    "model = tf.keras.Sequential([\n",
    "    tf.keras.layers.Dense(64, activation='relu', input_shape=(X_train.shape[1],), kernel_regularizer=tf.keras.regularizers.l2(0.01)),\n",
    "    tf.keras.layers.Dropout(0.3),\n",
    "    tf.keras.layers.Dense(32, activation='relu', kernel_regularizer=tf.keras.regularizers.l2(0.01)),\n",
    "    tf.keras.layers.Dropout(0.3),\n",
    "    tf.keras.layers.Dense(1, activation='sigmoid')\n",
    "])"
   ]
  },
  {
   "cell_type": "code",
   "execution_count": null,
   "metadata": {},
   "outputs": [],
   "source": [
    "model.compile(optimizer='adam', loss='binary_crossentropy', metrics=['accuracy'])\n",
    "model.fit(X_train, y_train, epochs=10, batch_size=32, validation_data=(X_test, y_test))"
   ]
  }
 ],
 "metadata": {
  "language_info": {
   "name": "python"
  },
  "orig_nbformat": 4
 },
 "nbformat": 4,
 "nbformat_minor": 2
}
