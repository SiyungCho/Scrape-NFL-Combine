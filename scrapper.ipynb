{
 "cells": [
  {
   "cell_type": "code",
   "execution_count": 1,
   "metadata": {},
   "outputs": [],
   "source": [
    "import pandas as pd"
   ]
  },
  {
   "cell_type": "code",
   "execution_count": 2,
   "metadata": {},
   "outputs": [],
   "source": [
    "from scrape_headers import col_names"
   ]
  },
  {
   "cell_type": "code",
   "execution_count": 3,
   "metadata": {},
   "outputs": [
    {
     "ename": "NoSuchWindowException",
     "evalue": "Message: no such window: target window already closed\nfrom unknown error: web view not found\n  (Session info: chrome=116.0.5845.111)\nStacktrace:\n\tGetHandleVerifier [0x00007FF66C2B52A2+57122]\n\t(No symbol) [0x00007FF66C22EA92]\n\t(No symbol) [0x00007FF66C0FE3AB]\n\t(No symbol) [0x00007FF66C0DE1B9]\n\t(No symbol) [0x00007FF66C15B417]\n\t(No symbol) [0x00007FF66C16E24F]\n\t(No symbol) [0x00007FF66C156DB3]\n\t(No symbol) [0x00007FF66C12D2B1]\n\t(No symbol) [0x00007FF66C12E494]\n\tGetHandleVerifier [0x00007FF66C55EF82+2849794]\n\tGetHandleVerifier [0x00007FF66C5B1D24+3189156]\n\tGetHandleVerifier [0x00007FF66C5AACAF+3160367]\n\tGetHandleVerifier [0x00007FF66C346D06+653702]\n\t(No symbol) [0x00007FF66C23A208]\n\t(No symbol) [0x00007FF66C2362C4]\n\t(No symbol) [0x00007FF66C2363F6]\n\t(No symbol) [0x00007FF66C2267A3]\n\tBaseThreadInitThunk [0x00007FF872F826AD+29]\n\tRtlUserThreadStart [0x00007FF874EEAA68+40]\n",
     "output_type": "error",
     "traceback": [
      "\u001b[1;31m---------------------------------------------------------------------------\u001b[0m",
      "\u001b[1;31mNoSuchWindowException\u001b[0m                     Traceback (most recent call last)",
      "Cell \u001b[1;32mIn[3], line 1\u001b[0m\n\u001b[1;32m----> 1\u001b[0m \u001b[39mfrom\u001b[39;00m \u001b[39mall_players_scrapper\u001b[39;00m \u001b[39mimport\u001b[39;00m data_table\n",
      "File \u001b[1;32mc:\\Users\\siyun\\OneDrive\\Desktop\\Python Projects\\Scrape-NFL-Combine\\all_players_scrapper.py:13\u001b[0m\n\u001b[0;32m     10\u001b[0m driver \u001b[39m=\u001b[39m webdriver\u001b[39m.\u001b[39mChrome(service\u001b[39m=\u001b[39mpath)\n\u001b[0;32m     11\u001b[0m driver\u001b[39m.\u001b[39mget(NFL_url)\n\u001b[1;32m---> 13\u001b[0m table \u001b[39m=\u001b[39m driver\u001b[39m.\u001b[39mfind_element(By\u001b[39m.\u001b[39mID, \u001b[39m'\u001b[39m\u001b[39mdatatable\u001b[39m\u001b[39m'\u001b[39m)\n\u001b[0;32m     14\u001b[0m rows \u001b[39m=\u001b[39m table\u001b[39m.\u001b[39mfind_elements(By\u001b[39m.\u001b[39mTAG_NAME, \u001b[39m'\u001b[39m\u001b[39mtr\u001b[39m\u001b[39m'\u001b[39m)\n\u001b[0;32m     16\u001b[0m \u001b[39mfor\u001b[39;00m row \u001b[39min\u001b[39;00m rows[\u001b[39m1\u001b[39m:]:  \u001b[39m# Skip the header row\u001b[39;00m\n",
      "File \u001b[1;32mc:\\Users\\siyun\\anaconda3\\Lib\\site-packages\\selenium\\webdriver\\remote\\webdriver.py:739\u001b[0m, in \u001b[0;36mWebDriver.find_element\u001b[1;34m(self, by, value)\u001b[0m\n\u001b[0;32m    736\u001b[0m     by \u001b[39m=\u001b[39m By\u001b[39m.\u001b[39mCSS_SELECTOR\n\u001b[0;32m    737\u001b[0m     value \u001b[39m=\u001b[39m \u001b[39mf\u001b[39m\u001b[39m'\u001b[39m\u001b[39m[name=\u001b[39m\u001b[39m\"\u001b[39m\u001b[39m{\u001b[39;00mvalue\u001b[39m}\u001b[39;00m\u001b[39m\"\u001b[39m\u001b[39m]\u001b[39m\u001b[39m'\u001b[39m\n\u001b[1;32m--> 739\u001b[0m \u001b[39mreturn\u001b[39;00m \u001b[39mself\u001b[39m\u001b[39m.\u001b[39mexecute(Command\u001b[39m.\u001b[39mFIND_ELEMENT, {\u001b[39m\"\u001b[39m\u001b[39musing\u001b[39m\u001b[39m\"\u001b[39m: by, \u001b[39m\"\u001b[39m\u001b[39mvalue\u001b[39m\u001b[39m\"\u001b[39m: value})[\u001b[39m\"\u001b[39m\u001b[39mvalue\u001b[39m\u001b[39m\"\u001b[39m]\n",
      "File \u001b[1;32mc:\\Users\\siyun\\anaconda3\\Lib\\site-packages\\selenium\\webdriver\\remote\\webdriver.py:345\u001b[0m, in \u001b[0;36mWebDriver.execute\u001b[1;34m(self, driver_command, params)\u001b[0m\n\u001b[0;32m    343\u001b[0m response \u001b[39m=\u001b[39m \u001b[39mself\u001b[39m\u001b[39m.\u001b[39mcommand_executor\u001b[39m.\u001b[39mexecute(driver_command, params)\n\u001b[0;32m    344\u001b[0m \u001b[39mif\u001b[39;00m response:\n\u001b[1;32m--> 345\u001b[0m     \u001b[39mself\u001b[39m\u001b[39m.\u001b[39merror_handler\u001b[39m.\u001b[39mcheck_response(response)\n\u001b[0;32m    346\u001b[0m     response[\u001b[39m\"\u001b[39m\u001b[39mvalue\u001b[39m\u001b[39m\"\u001b[39m] \u001b[39m=\u001b[39m \u001b[39mself\u001b[39m\u001b[39m.\u001b[39m_unwrap_value(response\u001b[39m.\u001b[39mget(\u001b[39m\"\u001b[39m\u001b[39mvalue\u001b[39m\u001b[39m\"\u001b[39m, \u001b[39mNone\u001b[39;00m))\n\u001b[0;32m    347\u001b[0m     \u001b[39mreturn\u001b[39;00m response\n",
      "File \u001b[1;32mc:\\Users\\siyun\\anaconda3\\Lib\\site-packages\\selenium\\webdriver\\remote\\errorhandler.py:229\u001b[0m, in \u001b[0;36mErrorHandler.check_response\u001b[1;34m(self, response)\u001b[0m\n\u001b[0;32m    227\u001b[0m         alert_text \u001b[39m=\u001b[39m value[\u001b[39m\"\u001b[39m\u001b[39malert\u001b[39m\u001b[39m\"\u001b[39m]\u001b[39m.\u001b[39mget(\u001b[39m\"\u001b[39m\u001b[39mtext\u001b[39m\u001b[39m\"\u001b[39m)\n\u001b[0;32m    228\u001b[0m     \u001b[39mraise\u001b[39;00m exception_class(message, screen, stacktrace, alert_text)  \u001b[39m# type: ignore[call-arg]  # mypy is not smart enough here\u001b[39;00m\n\u001b[1;32m--> 229\u001b[0m \u001b[39mraise\u001b[39;00m exception_class(message, screen, stacktrace)\n",
      "\u001b[1;31mNoSuchWindowException\u001b[0m: Message: no such window: target window already closed\nfrom unknown error: web view not found\n  (Session info: chrome=116.0.5845.111)\nStacktrace:\n\tGetHandleVerifier [0x00007FF66C2B52A2+57122]\n\t(No symbol) [0x00007FF66C22EA92]\n\t(No symbol) [0x00007FF66C0FE3AB]\n\t(No symbol) [0x00007FF66C0DE1B9]\n\t(No symbol) [0x00007FF66C15B417]\n\t(No symbol) [0x00007FF66C16E24F]\n\t(No symbol) [0x00007FF66C156DB3]\n\t(No symbol) [0x00007FF66C12D2B1]\n\t(No symbol) [0x00007FF66C12E494]\n\tGetHandleVerifier [0x00007FF66C55EF82+2849794]\n\tGetHandleVerifier [0x00007FF66C5B1D24+3189156]\n\tGetHandleVerifier [0x00007FF66C5AACAF+3160367]\n\tGetHandleVerifier [0x00007FF66C346D06+653702]\n\t(No symbol) [0x00007FF66C23A208]\n\t(No symbol) [0x00007FF66C2362C4]\n\t(No symbol) [0x00007FF66C2363F6]\n\t(No symbol) [0x00007FF66C2267A3]\n\tBaseThreadInitThunk [0x00007FF872F826AD+29]\n\tRtlUserThreadStart [0x00007FF874EEAA68+40]\n"
     ]
    }
   ],
   "source": [
    "from all_players_scrapper import data_table"
   ]
  },
  {
   "cell_type": "code",
   "execution_count": null,
   "metadata": {},
   "outputs": [
    {
     "name": "stdout",
     "output_type": "stream",
     "text": [
      "   Year             Name               College POS Height (in) Weight (lbs)  \\\n",
      "0  1987       Mike Adams         Arizona State  CB       69.80          198   \n",
      "1  1987     John Adickes                Baylor   C       74.80          266   \n",
      "2  1987       Tommy Agee                Auburn  FB       71.80          217   \n",
      "3  1987  David Alexander            Tulsa (OK)   C       75.00          279   \n",
      "4  1987    Lyneal Alston  Southern Mississippi  WR       72.10          202   \n",
      "\n",
      "  Wonderlic 40 Yard Bench Press Vert Leap (in) Broad Jump (in) Shuttle 3Cone  \n",
      "0         0    4.42          13           32.0             118    4.60     0  \n",
      "1         0    4.97          25           26.5             103    4.60     0  \n",
      "2         0       0          15              0               0       0     0  \n",
      "3         0    5.13          22           27.5             105    4.33     0  \n",
      "4         0    4.64           7           32.0             114    4.52     0  \n"
     ]
    }
   ],
   "source": [
    "df_all_players = pd.DataFrame(data_table, columns=col_names)\n",
    "print(df_all_players.head())"
   ]
  },
  {
   "cell_type": "code",
   "execution_count": null,
   "metadata": {},
   "outputs": [
    {
     "name": "stdout",
     "output_type": "stream",
     "text": [
      "   Year             Name               College POS Height (in) Weight (lbs)  \\\n",
      "0  1987       Mike Adams         Arizona State  CB       69.80          198   \n",
      "1  1987     John Adickes                Baylor   C       74.80          266   \n",
      "2  1987       Tommy Agee                Auburn  FB       71.80          217   \n",
      "3  1987  David Alexander            Tulsa (OK)   C       75.00          279   \n",
      "4  1987    Lyneal Alston  Southern Mississippi  WR       72.10          202   \n",
      "\n",
      "  40 Yard Bench Press Vert Leap (in) Broad Jump (in) Shuttle 3Cone  \n",
      "0    4.42          13           32.0             118    4.60     0  \n",
      "1    4.97          25           26.5             103    4.60     0  \n",
      "2       0          15              0               0       0     0  \n",
      "3    5.13          22           27.5             105    4.33     0  \n",
      "4    4.64           7           32.0             114    4.52     0  \n"
     ]
    }
   ],
   "source": [
    "df_all_players = df_all_players.dropna(subset=df_all_players.columns, how='any')\n",
    "df_all_players = df_all_players.drop('Wonderlic', axis=1)\n",
    "print(df_all_players.head())"
   ]
  },
  {
   "cell_type": "code",
   "execution_count": null,
   "metadata": {},
   "outputs": [],
   "source": [
    "def get_yearly_avg(metric, subset_values):\n",
    "    sum = 0.0\n",
    "    count=0\n",
    "    for ind, val in subset_values.iterrows():\n",
    "        if val[0] != '0':\n",
    "            sum += float(val[0])\n",
    "            count += 1\n",
    "\n",
    "    if(metric=='40 Yard' or metric=='Shuttle' or metric=='3Cone'):\n",
    "        return str(round(sum/count, 2))\n",
    "    elif(metric=='Vert Leap (in)'):\n",
    "        return str(round(sum/count, 1))\n",
    "    else:\n",
    "        return str(round(sum/count))"
   ]
  },
  {
   "cell_type": "code",
   "execution_count": null,
   "metadata": {},
   "outputs": [],
   "source": [
    "def fill_year_metric(metric, avg_val, subset):\n",
    "    for ind, val in subset[[metric]].iterrows():\n",
    "        if val[0] == '0':\n",
    "            subset.loc[ind][metric] = avg_val\n",
    "    return subset"
   ]
  },
  {
   "cell_type": "code",
   "execution_count": null,
   "metadata": {},
   "outputs": [
    {
     "name": "stdout",
     "output_type": "stream",
     "text": [
      "   Year             Name               College POS Height (in) Weight (lbs)  \\\n",
      "0  1987       Mike Adams         Arizona State  CB       69.80          198   \n",
      "1  1987     John Adickes                Baylor   C       74.80          266   \n",
      "2  1987       Tommy Agee                Auburn  FB       71.80          217   \n",
      "3  1987  David Alexander            Tulsa (OK)   C       75.00          279   \n",
      "4  1987    Lyneal Alston  Southern Mississippi  WR       72.10          202   \n",
      "\n",
      "  40 Yard Bench Press Vert Leap (in) Broad Jump (in) Shuttle 3Cone  \n",
      "0    4.42          13           32.0             118    4.60     0  \n",
      "1    4.97          25           26.5             103    4.60     0  \n",
      "2    4.81          15           28.7             109    4.45     0  \n",
      "3    5.13          22           27.5             105    4.33     0  \n",
      "4    4.64           7           32.0             114    4.52     0  \n"
     ]
    }
   ],
   "source": [
    "list_of_metrics = ['40 Yard', 'Bench Press', 'Vert Leap (in)', 'Broad Jump (in)', 'Shuttle']\n",
    "for year in range(1987, 2024):\n",
    "    year_subset = df_all_players[df_all_players['Year']==str(year)]\n",
    "    for metric in list_of_metrics:\n",
    "        avg = get_yearly_avg(metric, year_subset[[metric]])\n",
    "        year_subset = fill_year_metric(metric, avg, year_subset)\n",
    "    df_all_players[df_all_players['Year']==str(year)] = year_subset\n",
    "\n",
    "print(df_all_players.head())"
   ]
  },
  {
   "cell_type": "code",
   "execution_count": null,
   "metadata": {},
   "outputs": [],
   "source": [
    "def fill_3Cone(set):\n",
    "    metric = '3Cone'\n",
    "    avg = get_yearly_avg(metric, set[[metric]])\n",
    "\n",
    "    for ind, val in set[[metric]].iterrows():\n",
    "        if val[0] == '0':\n",
    "            set.loc[ind][metric] = avg\n",
    "    return set"
   ]
  },
  {
   "cell_type": "code",
   "execution_count": null,
   "metadata": {},
   "outputs": [
    {
     "name": "stdout",
     "output_type": "stream",
     "text": [
      "   Year             Name               College POS Height (in) Weight (lbs)  \\\n",
      "0  1987       Mike Adams         Arizona State  CB       69.80          198   \n",
      "1  1987     John Adickes                Baylor   C       74.80          266   \n",
      "2  1987       Tommy Agee                Auburn  FB       71.80          217   \n",
      "3  1987  David Alexander            Tulsa (OK)   C       75.00          279   \n",
      "4  1987    Lyneal Alston  Southern Mississippi  WR       72.10          202   \n",
      "\n",
      "  40 Yard Bench Press Vert Leap (in) Broad Jump (in) Shuttle 3Cone  \n",
      "0    4.42          13           32.0             118    4.60  7.31  \n",
      "1    4.97          25           26.5             103    4.60  7.31  \n",
      "2    4.81          15           28.7             109    4.45  7.31  \n",
      "3    5.13          22           27.5             105    4.33  7.31  \n",
      "4    4.64           7           32.0             114    4.52  7.31  \n"
     ]
    }
   ],
   "source": [
    "df_all_players = fill_3Cone(df_all_players)\n",
    "print(df_all_players.head())"
   ]
  },
  {
   "cell_type": "code",
   "execution_count": null,
   "metadata": {},
   "outputs": [],
   "source": [
    "df_all_players.to_csv('all_combine_dataset.csv', index=False)"
   ]
  },
  {
   "cell_type": "code",
   "execution_count": null,
   "metadata": {},
   "outputs": [],
   "source": [
    "from all_pro_scrapper import all_pro_players"
   ]
  },
  {
   "cell_type": "code",
   "execution_count": null,
   "metadata": {},
   "outputs": [],
   "source": [
    "#for ind, val in enumerate(all_pro_players):\n",
    "#    if isinstance(element, list):\n",
    "#        try:\n",
    "#            element.append(all_pro_players[ind+1])\n",
    "#        except IndexError:\n",
    "#            break\n",
    "#    elif isinstance(element, int):\n",
    "#        del all_pro_players[ind]"
   ]
  },
  {
   "cell_type": "code",
   "execution_count": null,
   "metadata": {},
   "outputs": [
    {
     "ename": "RecursionError",
     "evalue": "maximum recursion depth exceeded while getting the repr of an object",
     "output_type": "error",
     "traceback": [
      "\u001b[1;31m---------------------------------------------------------------------------\u001b[0m",
      "\u001b[1;31mRecursionError\u001b[0m                            Traceback (most recent call last)",
      "Cell \u001b[1;32mIn[31], line 5\u001b[0m\n\u001b[0;32m      2\u001b[0m \u001b[39m#print(all_pro_players)\u001b[39;00m\n\u001b[0;32m      4\u001b[0m \u001b[39mfor\u001b[39;00m ind, val \u001b[39min\u001b[39;00m \u001b[39menumerate\u001b[39m(all_pro_players):\n\u001b[1;32m----> 5\u001b[0m     \u001b[39mprint\u001b[39m(val[\u001b[39m1\u001b[39m])\n",
      "\u001b[1;31mRecursionError\u001b[0m: maximum recursion depth exceeded while getting the repr of an object"
     ]
    }
   ],
   "source": [
    "all_pro_players = [[inner_list[0], inner_list[-1]] for inner_list in all_pro_players]\n",
    "print(all_pro_players)"
   ]
  },
  {
   "cell_type": "code",
   "execution_count": null,
   "metadata": {},
   "outputs": [],
   "source": [
    "all_pro_col = ['Name', 'Year']\n",
    "df_pro_players = pd.DataFrame(all_pro_players, columns=all_pro_col)"
   ]
  },
  {
   "cell_type": "code",
   "execution_count": null,
   "metadata": {},
   "outputs": [
    {
     "ename": "RecursionError",
     "evalue": "maximum recursion depth exceeded while getting the repr of an object",
     "output_type": "error",
     "traceback": [
      "\u001b[1;31m---------------------------------------------------------------------------\u001b[0m",
      "\u001b[1;31mRecursionError\u001b[0m                            Traceback (most recent call last)",
      "Cell \u001b[1;32mIn[19], line 1\u001b[0m\n\u001b[1;32m----> 1\u001b[0m \u001b[39mprint\u001b[39m(df_pro_players\u001b[39m.\u001b[39mhead())\n",
      "File \u001b[1;32mc:\\Users\\siyun\\anaconda3\\Lib\\site-packages\\pandas\\core\\frame.py:1064\u001b[0m, in \u001b[0;36mDataFrame.__repr__\u001b[1;34m(self)\u001b[0m\n\u001b[0;32m   1061\u001b[0m     \u001b[39mreturn\u001b[39;00m buf\u001b[39m.\u001b[39mgetvalue()\n\u001b[0;32m   1063\u001b[0m repr_params \u001b[39m=\u001b[39m fmt\u001b[39m.\u001b[39mget_dataframe_repr_params()\n\u001b[1;32m-> 1064\u001b[0m \u001b[39mreturn\u001b[39;00m \u001b[39mself\u001b[39m\u001b[39m.\u001b[39mto_string(\u001b[39m*\u001b[39m\u001b[39m*\u001b[39mrepr_params)\n",
      "File \u001b[1;32mc:\\Users\\siyun\\anaconda3\\Lib\\site-packages\\pandas\\core\\frame.py:1245\u001b[0m, in \u001b[0;36mDataFrame.to_string\u001b[1;34m(self, buf, columns, col_space, header, index, na_rep, formatters, float_format, sparsify, index_names, justify, max_rows, max_cols, show_dimensions, decimal, line_width, min_rows, max_colwidth, encoding)\u001b[0m\n\u001b[0;32m   1226\u001b[0m \u001b[39mwith\u001b[39;00m option_context(\u001b[39m\"\u001b[39m\u001b[39mdisplay.max_colwidth\u001b[39m\u001b[39m\"\u001b[39m, max_colwidth):\n\u001b[0;32m   1227\u001b[0m     formatter \u001b[39m=\u001b[39m fmt\u001b[39m.\u001b[39mDataFrameFormatter(\n\u001b[0;32m   1228\u001b[0m         \u001b[39mself\u001b[39m,\n\u001b[0;32m   1229\u001b[0m         columns\u001b[39m=\u001b[39mcolumns,\n\u001b[1;32m   (...)\u001b[0m\n\u001b[0;32m   1243\u001b[0m         decimal\u001b[39m=\u001b[39mdecimal,\n\u001b[0;32m   1244\u001b[0m     )\n\u001b[1;32m-> 1245\u001b[0m     \u001b[39mreturn\u001b[39;00m fmt\u001b[39m.\u001b[39mDataFrameRenderer(formatter)\u001b[39m.\u001b[39mto_string(\n\u001b[0;32m   1246\u001b[0m         buf\u001b[39m=\u001b[39mbuf,\n\u001b[0;32m   1247\u001b[0m         encoding\u001b[39m=\u001b[39mencoding,\n\u001b[0;32m   1248\u001b[0m         line_width\u001b[39m=\u001b[39mline_width,\n\u001b[0;32m   1249\u001b[0m     )\n",
      "File \u001b[1;32mc:\\Users\\siyun\\anaconda3\\Lib\\site-packages\\pandas\\io\\formats\\format.py:1136\u001b[0m, in \u001b[0;36mDataFrameRenderer.to_string\u001b[1;34m(self, buf, encoding, line_width)\u001b[0m\n\u001b[0;32m   1133\u001b[0m \u001b[39mfrom\u001b[39;00m \u001b[39mpandas\u001b[39;00m\u001b[39m.\u001b[39;00m\u001b[39mio\u001b[39;00m\u001b[39m.\u001b[39;00m\u001b[39mformats\u001b[39;00m\u001b[39m.\u001b[39;00m\u001b[39mstring\u001b[39;00m \u001b[39mimport\u001b[39;00m StringFormatter\n\u001b[0;32m   1135\u001b[0m string_formatter \u001b[39m=\u001b[39m StringFormatter(\u001b[39mself\u001b[39m\u001b[39m.\u001b[39mfmt, line_width\u001b[39m=\u001b[39mline_width)\n\u001b[1;32m-> 1136\u001b[0m string \u001b[39m=\u001b[39m string_formatter\u001b[39m.\u001b[39mto_string()\n\u001b[0;32m   1137\u001b[0m \u001b[39mreturn\u001b[39;00m save_to_buffer(string, buf\u001b[39m=\u001b[39mbuf, encoding\u001b[39m=\u001b[39mencoding)\n",
      "File \u001b[1;32mc:\\Users\\siyun\\anaconda3\\Lib\\site-packages\\pandas\\io\\formats\\string.py:30\u001b[0m, in \u001b[0;36mStringFormatter.to_string\u001b[1;34m(self)\u001b[0m\n\u001b[0;32m     29\u001b[0m \u001b[39mdef\u001b[39;00m \u001b[39mto_string\u001b[39m(\u001b[39mself\u001b[39m) \u001b[39m-\u001b[39m\u001b[39m>\u001b[39m \u001b[39mstr\u001b[39m:\n\u001b[1;32m---> 30\u001b[0m     text \u001b[39m=\u001b[39m \u001b[39mself\u001b[39m\u001b[39m.\u001b[39m_get_string_representation()\n\u001b[0;32m     31\u001b[0m     \u001b[39mif\u001b[39;00m \u001b[39mself\u001b[39m\u001b[39m.\u001b[39mfmt\u001b[39m.\u001b[39mshould_show_dimensions:\n\u001b[0;32m     32\u001b[0m         text \u001b[39m=\u001b[39m \u001b[39m\"\u001b[39m\u001b[39m\"\u001b[39m\u001b[39m.\u001b[39mjoin([text, \u001b[39mself\u001b[39m\u001b[39m.\u001b[39mfmt\u001b[39m.\u001b[39mdimensions_info])\n",
      "File \u001b[1;32mc:\\Users\\siyun\\anaconda3\\Lib\\site-packages\\pandas\\io\\formats\\string.py:45\u001b[0m, in \u001b[0;36mStringFormatter._get_string_representation\u001b[1;34m(self)\u001b[0m\n\u001b[0;32m     42\u001b[0m \u001b[39mif\u001b[39;00m \u001b[39mself\u001b[39m\u001b[39m.\u001b[39mfmt\u001b[39m.\u001b[39mframe\u001b[39m.\u001b[39mempty:\n\u001b[0;32m     43\u001b[0m     \u001b[39mreturn\u001b[39;00m \u001b[39mself\u001b[39m\u001b[39m.\u001b[39m_empty_info_line\n\u001b[1;32m---> 45\u001b[0m strcols \u001b[39m=\u001b[39m \u001b[39mself\u001b[39m\u001b[39m.\u001b[39m_get_strcols()\n\u001b[0;32m     47\u001b[0m \u001b[39mif\u001b[39;00m \u001b[39mself\u001b[39m\u001b[39m.\u001b[39mline_width \u001b[39mis\u001b[39;00m \u001b[39mNone\u001b[39;00m:\n\u001b[0;32m     48\u001b[0m     \u001b[39m# no need to wrap around just print the whole frame\u001b[39;00m\n\u001b[0;32m     49\u001b[0m     \u001b[39mreturn\u001b[39;00m \u001b[39mself\u001b[39m\u001b[39m.\u001b[39madj\u001b[39m.\u001b[39madjoin(\u001b[39m1\u001b[39m, \u001b[39m*\u001b[39mstrcols)\n",
      "File \u001b[1;32mc:\\Users\\siyun\\anaconda3\\Lib\\site-packages\\pandas\\io\\formats\\string.py:36\u001b[0m, in \u001b[0;36mStringFormatter._get_strcols\u001b[1;34m(self)\u001b[0m\n\u001b[0;32m     35\u001b[0m \u001b[39mdef\u001b[39;00m \u001b[39m_get_strcols\u001b[39m(\u001b[39mself\u001b[39m) \u001b[39m-\u001b[39m\u001b[39m>\u001b[39m \u001b[39mlist\u001b[39m[\u001b[39mlist\u001b[39m[\u001b[39mstr\u001b[39m]]:\n\u001b[1;32m---> 36\u001b[0m     strcols \u001b[39m=\u001b[39m \u001b[39mself\u001b[39m\u001b[39m.\u001b[39mfmt\u001b[39m.\u001b[39mget_strcols()\n\u001b[0;32m     37\u001b[0m     \u001b[39mif\u001b[39;00m \u001b[39mself\u001b[39m\u001b[39m.\u001b[39mfmt\u001b[39m.\u001b[39mis_truncated:\n\u001b[0;32m     38\u001b[0m         strcols \u001b[39m=\u001b[39m \u001b[39mself\u001b[39m\u001b[39m.\u001b[39m_insert_dot_separators(strcols)\n",
      "File \u001b[1;32mc:\\Users\\siyun\\anaconda3\\Lib\\site-packages\\pandas\\io\\formats\\format.py:617\u001b[0m, in \u001b[0;36mDataFrameFormatter.get_strcols\u001b[1;34m(self)\u001b[0m\n\u001b[0;32m    613\u001b[0m \u001b[39mdef\u001b[39;00m \u001b[39mget_strcols\u001b[39m(\u001b[39mself\u001b[39m) \u001b[39m-\u001b[39m\u001b[39m>\u001b[39m \u001b[39mlist\u001b[39m[\u001b[39mlist\u001b[39m[\u001b[39mstr\u001b[39m]]:\n\u001b[0;32m    614\u001b[0m \u001b[39m    \u001b[39m\u001b[39m\"\"\"\u001b[39;00m\n\u001b[0;32m    615\u001b[0m \u001b[39m    Render a DataFrame to a list of columns (as lists of strings).\u001b[39;00m\n\u001b[0;32m    616\u001b[0m \u001b[39m    \"\"\"\u001b[39;00m\n\u001b[1;32m--> 617\u001b[0m     strcols \u001b[39m=\u001b[39m \u001b[39mself\u001b[39m\u001b[39m.\u001b[39m_get_strcols_without_index()\n\u001b[0;32m    619\u001b[0m     \u001b[39mif\u001b[39;00m \u001b[39mself\u001b[39m\u001b[39m.\u001b[39mindex:\n\u001b[0;32m    620\u001b[0m         str_index \u001b[39m=\u001b[39m \u001b[39mself\u001b[39m\u001b[39m.\u001b[39m_get_formatted_index(\u001b[39mself\u001b[39m\u001b[39m.\u001b[39mtr_frame)\n",
      "File \u001b[1;32mc:\\Users\\siyun\\anaconda3\\Lib\\site-packages\\pandas\\io\\formats\\format.py:883\u001b[0m, in \u001b[0;36mDataFrameFormatter._get_strcols_without_index\u001b[1;34m(self)\u001b[0m\n\u001b[0;32m    879\u001b[0m cheader \u001b[39m=\u001b[39m str_columns[i]\n\u001b[0;32m    880\u001b[0m header_colwidth \u001b[39m=\u001b[39m \u001b[39mmax\u001b[39m(\n\u001b[0;32m    881\u001b[0m     \u001b[39mint\u001b[39m(\u001b[39mself\u001b[39m\u001b[39m.\u001b[39mcol_space\u001b[39m.\u001b[39mget(c, \u001b[39m0\u001b[39m)), \u001b[39m*\u001b[39m(\u001b[39mself\u001b[39m\u001b[39m.\u001b[39madj\u001b[39m.\u001b[39mlen(x) \u001b[39mfor\u001b[39;00m x \u001b[39min\u001b[39;00m cheader)\n\u001b[0;32m    882\u001b[0m )\n\u001b[1;32m--> 883\u001b[0m fmt_values \u001b[39m=\u001b[39m \u001b[39mself\u001b[39m\u001b[39m.\u001b[39mformat_col(i)\n\u001b[0;32m    884\u001b[0m fmt_values \u001b[39m=\u001b[39m _make_fixed_width(\n\u001b[0;32m    885\u001b[0m     fmt_values, \u001b[39mself\u001b[39m\u001b[39m.\u001b[39mjustify, minimum\u001b[39m=\u001b[39mheader_colwidth, adj\u001b[39m=\u001b[39m\u001b[39mself\u001b[39m\u001b[39m.\u001b[39madj\n\u001b[0;32m    886\u001b[0m )\n\u001b[0;32m    888\u001b[0m max_len \u001b[39m=\u001b[39m \u001b[39mmax\u001b[39m(\u001b[39mmax\u001b[39m(\u001b[39mself\u001b[39m\u001b[39m.\u001b[39madj\u001b[39m.\u001b[39mlen(x) \u001b[39mfor\u001b[39;00m x \u001b[39min\u001b[39;00m fmt_values), header_colwidth)\n",
      "File \u001b[1;32mc:\\Users\\siyun\\anaconda3\\Lib\\site-packages\\pandas\\io\\formats\\format.py:897\u001b[0m, in \u001b[0;36mDataFrameFormatter.format_col\u001b[1;34m(self, i)\u001b[0m\n\u001b[0;32m    895\u001b[0m frame \u001b[39m=\u001b[39m \u001b[39mself\u001b[39m\u001b[39m.\u001b[39mtr_frame\n\u001b[0;32m    896\u001b[0m formatter \u001b[39m=\u001b[39m \u001b[39mself\u001b[39m\u001b[39m.\u001b[39m_get_formatter(i)\n\u001b[1;32m--> 897\u001b[0m \u001b[39mreturn\u001b[39;00m format_array(\n\u001b[0;32m    898\u001b[0m     frame\u001b[39m.\u001b[39miloc[:, i]\u001b[39m.\u001b[39m_values,\n\u001b[0;32m    899\u001b[0m     formatter,\n\u001b[0;32m    900\u001b[0m     float_format\u001b[39m=\u001b[39m\u001b[39mself\u001b[39m\u001b[39m.\u001b[39mfloat_format,\n\u001b[0;32m    901\u001b[0m     na_rep\u001b[39m=\u001b[39m\u001b[39mself\u001b[39m\u001b[39m.\u001b[39mna_rep,\n\u001b[0;32m    902\u001b[0m     space\u001b[39m=\u001b[39m\u001b[39mself\u001b[39m\u001b[39m.\u001b[39mcol_space\u001b[39m.\u001b[39mget(frame\u001b[39m.\u001b[39mcolumns[i]),\n\u001b[0;32m    903\u001b[0m     decimal\u001b[39m=\u001b[39m\u001b[39mself\u001b[39m\u001b[39m.\u001b[39mdecimal,\n\u001b[0;32m    904\u001b[0m     leading_space\u001b[39m=\u001b[39m\u001b[39mself\u001b[39m\u001b[39m.\u001b[39mindex,\n\u001b[0;32m    905\u001b[0m )\n",
      "File \u001b[1;32mc:\\Users\\siyun\\anaconda3\\Lib\\site-packages\\pandas\\io\\formats\\format.py:1328\u001b[0m, in \u001b[0;36mformat_array\u001b[1;34m(values, formatter, float_format, na_rep, digits, space, justify, decimal, leading_space, quoting)\u001b[0m\n\u001b[0;32m   1313\u001b[0m     digits \u001b[39m=\u001b[39m get_option(\u001b[39m\"\u001b[39m\u001b[39mdisplay.precision\u001b[39m\u001b[39m\"\u001b[39m)\n\u001b[0;32m   1315\u001b[0m fmt_obj \u001b[39m=\u001b[39m fmt_klass(\n\u001b[0;32m   1316\u001b[0m     values,\n\u001b[0;32m   1317\u001b[0m     digits\u001b[39m=\u001b[39mdigits,\n\u001b[1;32m   (...)\u001b[0m\n\u001b[0;32m   1325\u001b[0m     quoting\u001b[39m=\u001b[39mquoting,\n\u001b[0;32m   1326\u001b[0m )\n\u001b[1;32m-> 1328\u001b[0m \u001b[39mreturn\u001b[39;00m fmt_obj\u001b[39m.\u001b[39mget_result()\n",
      "File \u001b[1;32mc:\\Users\\siyun\\anaconda3\\Lib\\site-packages\\pandas\\io\\formats\\format.py:1359\u001b[0m, in \u001b[0;36mGenericArrayFormatter.get_result\u001b[1;34m(self)\u001b[0m\n\u001b[0;32m   1358\u001b[0m \u001b[39mdef\u001b[39;00m \u001b[39mget_result\u001b[39m(\u001b[39mself\u001b[39m) \u001b[39m-\u001b[39m\u001b[39m>\u001b[39m \u001b[39mlist\u001b[39m[\u001b[39mstr\u001b[39m]:\n\u001b[1;32m-> 1359\u001b[0m     fmt_values \u001b[39m=\u001b[39m \u001b[39mself\u001b[39m\u001b[39m.\u001b[39m_format_strings()\n\u001b[0;32m   1360\u001b[0m     \u001b[39mreturn\u001b[39;00m _make_fixed_width(fmt_values, \u001b[39mself\u001b[39m\u001b[39m.\u001b[39mjustify)\n",
      "File \u001b[1;32mc:\\Users\\siyun\\anaconda3\\Lib\\site-packages\\pandas\\io\\formats\\format.py:1422\u001b[0m, in \u001b[0;36mGenericArrayFormatter._format_strings\u001b[1;34m(self)\u001b[0m\n\u001b[0;32m   1420\u001b[0m \u001b[39mfor\u001b[39;00m i, v \u001b[39min\u001b[39;00m \u001b[39menumerate\u001b[39m(vals):\n\u001b[0;32m   1421\u001b[0m     \u001b[39mif\u001b[39;00m \u001b[39mnot\u001b[39;00m is_float_type[i] \u001b[39mand\u001b[39;00m leading_space:\n\u001b[1;32m-> 1422\u001b[0m         fmt_values\u001b[39m.\u001b[39mappend(\u001b[39mf\u001b[39m\u001b[39m\"\u001b[39m\u001b[39m \u001b[39m\u001b[39m{\u001b[39;00m_format(v)\u001b[39m}\u001b[39;00m\u001b[39m\"\u001b[39m)\n\u001b[0;32m   1423\u001b[0m     \u001b[39melif\u001b[39;00m is_float_type[i]:\n\u001b[0;32m   1424\u001b[0m         fmt_values\u001b[39m.\u001b[39mappend(float_format(v))\n",
      "File \u001b[1;32mc:\\Users\\siyun\\anaconda3\\Lib\\site-packages\\pandas\\io\\formats\\format.py:1402\u001b[0m, in \u001b[0;36mGenericArrayFormatter._format_strings.<locals>._format\u001b[1;34m(x)\u001b[0m\n\u001b[0;32m   1399\u001b[0m     \u001b[39mreturn\u001b[39;00m \u001b[39mstr\u001b[39m(x)\n\u001b[0;32m   1400\u001b[0m \u001b[39melse\u001b[39;00m:\n\u001b[0;32m   1401\u001b[0m     \u001b[39m# object dtype\u001b[39;00m\n\u001b[1;32m-> 1402\u001b[0m     \u001b[39mreturn\u001b[39;00m \u001b[39mstr\u001b[39m(formatter(x))\n",
      "File \u001b[1;32mc:\\Users\\siyun\\anaconda3\\Lib\\site-packages\\pandas\\io\\formats\\printing.py:222\u001b[0m, in \u001b[0;36mpprint_thing\u001b[1;34m(thing, _nest_lvl, escape_chars, default_escapes, quote_strings, max_seq_items)\u001b[0m\n\u001b[0;32m    218\u001b[0m     result \u001b[39m=\u001b[39m _pprint_dict(\n\u001b[0;32m    219\u001b[0m         thing, _nest_lvl, quote_strings\u001b[39m=\u001b[39m\u001b[39mTrue\u001b[39;00m, max_seq_items\u001b[39m=\u001b[39mmax_seq_items\n\u001b[0;32m    220\u001b[0m     )\n\u001b[0;32m    221\u001b[0m \u001b[39melif\u001b[39;00m is_sequence(thing) \u001b[39mand\u001b[39;00m _nest_lvl \u001b[39m<\u001b[39m get_option(\u001b[39m\"\u001b[39m\u001b[39mdisplay.pprint_nest_depth\u001b[39m\u001b[39m\"\u001b[39m):\n\u001b[1;32m--> 222\u001b[0m     result \u001b[39m=\u001b[39m _pprint_seq(\n\u001b[0;32m    223\u001b[0m         thing,\n\u001b[0;32m    224\u001b[0m         _nest_lvl,\n\u001b[0;32m    225\u001b[0m         escape_chars\u001b[39m=\u001b[39mescape_chars,\n\u001b[0;32m    226\u001b[0m         quote_strings\u001b[39m=\u001b[39mquote_strings,\n\u001b[0;32m    227\u001b[0m         max_seq_items\u001b[39m=\u001b[39mmax_seq_items,\n\u001b[0;32m    228\u001b[0m     )\n\u001b[0;32m    229\u001b[0m \u001b[39melif\u001b[39;00m \u001b[39misinstance\u001b[39m(thing, \u001b[39mstr\u001b[39m) \u001b[39mand\u001b[39;00m quote_strings:\n\u001b[0;32m    230\u001b[0m     result \u001b[39m=\u001b[39m \u001b[39mf\u001b[39m\u001b[39m\"\u001b[39m\u001b[39m'\u001b[39m\u001b[39m{\u001b[39;00mas_escaped_string(thing)\u001b[39m}\u001b[39;00m\u001b[39m'\u001b[39m\u001b[39m\"\u001b[39m\n",
      "File \u001b[1;32mc:\\Users\\siyun\\anaconda3\\Lib\\site-packages\\pandas\\io\\formats\\printing.py:119\u001b[0m, in \u001b[0;36m_pprint_seq\u001b[1;34m(seq, _nest_lvl, max_seq_items, **kwds)\u001b[0m\n\u001b[0;32m    117\u001b[0m s \u001b[39m=\u001b[39m \u001b[39miter\u001b[39m(seq)\n\u001b[0;32m    118\u001b[0m \u001b[39m# handle sets, no slicing\u001b[39;00m\n\u001b[1;32m--> 119\u001b[0m r \u001b[39m=\u001b[39m [\n\u001b[0;32m    120\u001b[0m     pprint_thing(\u001b[39mnext\u001b[39m(s), _nest_lvl \u001b[39m+\u001b[39m \u001b[39m1\u001b[39m, max_seq_items\u001b[39m=\u001b[39mmax_seq_items, \u001b[39m*\u001b[39m\u001b[39m*\u001b[39mkwds)\n\u001b[0;32m    121\u001b[0m     \u001b[39mfor\u001b[39;00m i \u001b[39min\u001b[39;00m \u001b[39mrange\u001b[39m(\u001b[39mmin\u001b[39m(nitems, \u001b[39mlen\u001b[39m(seq)))\n\u001b[0;32m    122\u001b[0m ]\n\u001b[0;32m    123\u001b[0m body \u001b[39m=\u001b[39m \u001b[39m\"\u001b[39m\u001b[39m, \u001b[39m\u001b[39m\"\u001b[39m\u001b[39m.\u001b[39mjoin(r)\n\u001b[0;32m    125\u001b[0m \u001b[39mif\u001b[39;00m nitems \u001b[39m<\u001b[39m \u001b[39mlen\u001b[39m(seq):\n",
      "File \u001b[1;32mc:\\Users\\siyun\\anaconda3\\Lib\\site-packages\\pandas\\io\\formats\\printing.py:120\u001b[0m, in \u001b[0;36m<listcomp>\u001b[1;34m(.0)\u001b[0m\n\u001b[0;32m    117\u001b[0m s \u001b[39m=\u001b[39m \u001b[39miter\u001b[39m(seq)\n\u001b[0;32m    118\u001b[0m \u001b[39m# handle sets, no slicing\u001b[39;00m\n\u001b[0;32m    119\u001b[0m r \u001b[39m=\u001b[39m [\n\u001b[1;32m--> 120\u001b[0m     pprint_thing(\u001b[39mnext\u001b[39m(s), _nest_lvl \u001b[39m+\u001b[39m \u001b[39m1\u001b[39m, max_seq_items\u001b[39m=\u001b[39mmax_seq_items, \u001b[39m*\u001b[39m\u001b[39m*\u001b[39mkwds)\n\u001b[0;32m    121\u001b[0m     \u001b[39mfor\u001b[39;00m i \u001b[39min\u001b[39;00m \u001b[39mrange\u001b[39m(\u001b[39mmin\u001b[39m(nitems, \u001b[39mlen\u001b[39m(seq)))\n\u001b[0;32m    122\u001b[0m ]\n\u001b[0;32m    123\u001b[0m body \u001b[39m=\u001b[39m \u001b[39m\"\u001b[39m\u001b[39m, \u001b[39m\u001b[39m\"\u001b[39m\u001b[39m.\u001b[39mjoin(r)\n\u001b[0;32m    125\u001b[0m \u001b[39mif\u001b[39;00m nitems \u001b[39m<\u001b[39m \u001b[39mlen\u001b[39m(seq):\n",
      "File \u001b[1;32mc:\\Users\\siyun\\anaconda3\\Lib\\site-packages\\pandas\\io\\formats\\printing.py:222\u001b[0m, in \u001b[0;36mpprint_thing\u001b[1;34m(thing, _nest_lvl, escape_chars, default_escapes, quote_strings, max_seq_items)\u001b[0m\n\u001b[0;32m    218\u001b[0m     result \u001b[39m=\u001b[39m _pprint_dict(\n\u001b[0;32m    219\u001b[0m         thing, _nest_lvl, quote_strings\u001b[39m=\u001b[39m\u001b[39mTrue\u001b[39;00m, max_seq_items\u001b[39m=\u001b[39mmax_seq_items\n\u001b[0;32m    220\u001b[0m     )\n\u001b[0;32m    221\u001b[0m \u001b[39melif\u001b[39;00m is_sequence(thing) \u001b[39mand\u001b[39;00m _nest_lvl \u001b[39m<\u001b[39m get_option(\u001b[39m\"\u001b[39m\u001b[39mdisplay.pprint_nest_depth\u001b[39m\u001b[39m\"\u001b[39m):\n\u001b[1;32m--> 222\u001b[0m     result \u001b[39m=\u001b[39m _pprint_seq(\n\u001b[0;32m    223\u001b[0m         thing,\n\u001b[0;32m    224\u001b[0m         _nest_lvl,\n\u001b[0;32m    225\u001b[0m         escape_chars\u001b[39m=\u001b[39mescape_chars,\n\u001b[0;32m    226\u001b[0m         quote_strings\u001b[39m=\u001b[39mquote_strings,\n\u001b[0;32m    227\u001b[0m         max_seq_items\u001b[39m=\u001b[39mmax_seq_items,\n\u001b[0;32m    228\u001b[0m     )\n\u001b[0;32m    229\u001b[0m \u001b[39melif\u001b[39;00m \u001b[39misinstance\u001b[39m(thing, \u001b[39mstr\u001b[39m) \u001b[39mand\u001b[39;00m quote_strings:\n\u001b[0;32m    230\u001b[0m     result \u001b[39m=\u001b[39m \u001b[39mf\u001b[39m\u001b[39m\"\u001b[39m\u001b[39m'\u001b[39m\u001b[39m{\u001b[39;00mas_escaped_string(thing)\u001b[39m}\u001b[39;00m\u001b[39m'\u001b[39m\u001b[39m\"\u001b[39m\n",
      "File \u001b[1;32mc:\\Users\\siyun\\anaconda3\\Lib\\site-packages\\pandas\\io\\formats\\printing.py:119\u001b[0m, in \u001b[0;36m_pprint_seq\u001b[1;34m(seq, _nest_lvl, max_seq_items, **kwds)\u001b[0m\n\u001b[0;32m    117\u001b[0m s \u001b[39m=\u001b[39m \u001b[39miter\u001b[39m(seq)\n\u001b[0;32m    118\u001b[0m \u001b[39m# handle sets, no slicing\u001b[39;00m\n\u001b[1;32m--> 119\u001b[0m r \u001b[39m=\u001b[39m [\n\u001b[0;32m    120\u001b[0m     pprint_thing(\u001b[39mnext\u001b[39m(s), _nest_lvl \u001b[39m+\u001b[39m \u001b[39m1\u001b[39m, max_seq_items\u001b[39m=\u001b[39mmax_seq_items, \u001b[39m*\u001b[39m\u001b[39m*\u001b[39mkwds)\n\u001b[0;32m    121\u001b[0m     \u001b[39mfor\u001b[39;00m i \u001b[39min\u001b[39;00m \u001b[39mrange\u001b[39m(\u001b[39mmin\u001b[39m(nitems, \u001b[39mlen\u001b[39m(seq)))\n\u001b[0;32m    122\u001b[0m ]\n\u001b[0;32m    123\u001b[0m body \u001b[39m=\u001b[39m \u001b[39m\"\u001b[39m\u001b[39m, \u001b[39m\u001b[39m\"\u001b[39m\u001b[39m.\u001b[39mjoin(r)\n\u001b[0;32m    125\u001b[0m \u001b[39mif\u001b[39;00m nitems \u001b[39m<\u001b[39m \u001b[39mlen\u001b[39m(seq):\n",
      "File \u001b[1;32mc:\\Users\\siyun\\anaconda3\\Lib\\site-packages\\pandas\\io\\formats\\printing.py:120\u001b[0m, in \u001b[0;36m<listcomp>\u001b[1;34m(.0)\u001b[0m\n\u001b[0;32m    117\u001b[0m s \u001b[39m=\u001b[39m \u001b[39miter\u001b[39m(seq)\n\u001b[0;32m    118\u001b[0m \u001b[39m# handle sets, no slicing\u001b[39;00m\n\u001b[0;32m    119\u001b[0m r \u001b[39m=\u001b[39m [\n\u001b[1;32m--> 120\u001b[0m     pprint_thing(\u001b[39mnext\u001b[39m(s), _nest_lvl \u001b[39m+\u001b[39m \u001b[39m1\u001b[39m, max_seq_items\u001b[39m=\u001b[39mmax_seq_items, \u001b[39m*\u001b[39m\u001b[39m*\u001b[39mkwds)\n\u001b[0;32m    121\u001b[0m     \u001b[39mfor\u001b[39;00m i \u001b[39min\u001b[39;00m \u001b[39mrange\u001b[39m(\u001b[39mmin\u001b[39m(nitems, \u001b[39mlen\u001b[39m(seq)))\n\u001b[0;32m    122\u001b[0m ]\n\u001b[0;32m    123\u001b[0m body \u001b[39m=\u001b[39m \u001b[39m\"\u001b[39m\u001b[39m, \u001b[39m\u001b[39m\"\u001b[39m\u001b[39m.\u001b[39mjoin(r)\n\u001b[0;32m    125\u001b[0m \u001b[39mif\u001b[39;00m nitems \u001b[39m<\u001b[39m \u001b[39mlen\u001b[39m(seq):\n",
      "File \u001b[1;32mc:\\Users\\siyun\\anaconda3\\Lib\\site-packages\\pandas\\io\\formats\\printing.py:222\u001b[0m, in \u001b[0;36mpprint_thing\u001b[1;34m(thing, _nest_lvl, escape_chars, default_escapes, quote_strings, max_seq_items)\u001b[0m\n\u001b[0;32m    218\u001b[0m     result \u001b[39m=\u001b[39m _pprint_dict(\n\u001b[0;32m    219\u001b[0m         thing, _nest_lvl, quote_strings\u001b[39m=\u001b[39m\u001b[39mTrue\u001b[39;00m, max_seq_items\u001b[39m=\u001b[39mmax_seq_items\n\u001b[0;32m    220\u001b[0m     )\n\u001b[0;32m    221\u001b[0m \u001b[39melif\u001b[39;00m is_sequence(thing) \u001b[39mand\u001b[39;00m _nest_lvl \u001b[39m<\u001b[39m get_option(\u001b[39m\"\u001b[39m\u001b[39mdisplay.pprint_nest_depth\u001b[39m\u001b[39m\"\u001b[39m):\n\u001b[1;32m--> 222\u001b[0m     result \u001b[39m=\u001b[39m _pprint_seq(\n\u001b[0;32m    223\u001b[0m         thing,\n\u001b[0;32m    224\u001b[0m         _nest_lvl,\n\u001b[0;32m    225\u001b[0m         escape_chars\u001b[39m=\u001b[39mescape_chars,\n\u001b[0;32m    226\u001b[0m         quote_strings\u001b[39m=\u001b[39mquote_strings,\n\u001b[0;32m    227\u001b[0m         max_seq_items\u001b[39m=\u001b[39mmax_seq_items,\n\u001b[0;32m    228\u001b[0m     )\n\u001b[0;32m    229\u001b[0m \u001b[39melif\u001b[39;00m \u001b[39misinstance\u001b[39m(thing, \u001b[39mstr\u001b[39m) \u001b[39mand\u001b[39;00m quote_strings:\n\u001b[0;32m    230\u001b[0m     result \u001b[39m=\u001b[39m \u001b[39mf\u001b[39m\u001b[39m\"\u001b[39m\u001b[39m'\u001b[39m\u001b[39m{\u001b[39;00mas_escaped_string(thing)\u001b[39m}\u001b[39;00m\u001b[39m'\u001b[39m\u001b[39m\"\u001b[39m\n",
      "File \u001b[1;32mc:\\Users\\siyun\\anaconda3\\Lib\\site-packages\\pandas\\io\\formats\\printing.py:119\u001b[0m, in \u001b[0;36m_pprint_seq\u001b[1;34m(seq, _nest_lvl, max_seq_items, **kwds)\u001b[0m\n\u001b[0;32m    117\u001b[0m s \u001b[39m=\u001b[39m \u001b[39miter\u001b[39m(seq)\n\u001b[0;32m    118\u001b[0m \u001b[39m# handle sets, no slicing\u001b[39;00m\n\u001b[1;32m--> 119\u001b[0m r \u001b[39m=\u001b[39m [\n\u001b[0;32m    120\u001b[0m     pprint_thing(\u001b[39mnext\u001b[39m(s), _nest_lvl \u001b[39m+\u001b[39m \u001b[39m1\u001b[39m, max_seq_items\u001b[39m=\u001b[39mmax_seq_items, \u001b[39m*\u001b[39m\u001b[39m*\u001b[39mkwds)\n\u001b[0;32m    121\u001b[0m     \u001b[39mfor\u001b[39;00m i \u001b[39min\u001b[39;00m \u001b[39mrange\u001b[39m(\u001b[39mmin\u001b[39m(nitems, \u001b[39mlen\u001b[39m(seq)))\n\u001b[0;32m    122\u001b[0m ]\n\u001b[0;32m    123\u001b[0m body \u001b[39m=\u001b[39m \u001b[39m\"\u001b[39m\u001b[39m, \u001b[39m\u001b[39m\"\u001b[39m\u001b[39m.\u001b[39mjoin(r)\n\u001b[0;32m    125\u001b[0m \u001b[39mif\u001b[39;00m nitems \u001b[39m<\u001b[39m \u001b[39mlen\u001b[39m(seq):\n",
      "File \u001b[1;32mc:\\Users\\siyun\\anaconda3\\Lib\\site-packages\\pandas\\io\\formats\\printing.py:120\u001b[0m, in \u001b[0;36m<listcomp>\u001b[1;34m(.0)\u001b[0m\n\u001b[0;32m    117\u001b[0m s \u001b[39m=\u001b[39m \u001b[39miter\u001b[39m(seq)\n\u001b[0;32m    118\u001b[0m \u001b[39m# handle sets, no slicing\u001b[39;00m\n\u001b[0;32m    119\u001b[0m r \u001b[39m=\u001b[39m [\n\u001b[1;32m--> 120\u001b[0m     pprint_thing(\u001b[39mnext\u001b[39m(s), _nest_lvl \u001b[39m+\u001b[39m \u001b[39m1\u001b[39m, max_seq_items\u001b[39m=\u001b[39mmax_seq_items, \u001b[39m*\u001b[39m\u001b[39m*\u001b[39mkwds)\n\u001b[0;32m    121\u001b[0m     \u001b[39mfor\u001b[39;00m i \u001b[39min\u001b[39;00m \u001b[39mrange\u001b[39m(\u001b[39mmin\u001b[39m(nitems, \u001b[39mlen\u001b[39m(seq)))\n\u001b[0;32m    122\u001b[0m ]\n\u001b[0;32m    123\u001b[0m body \u001b[39m=\u001b[39m \u001b[39m\"\u001b[39m\u001b[39m, \u001b[39m\u001b[39m\"\u001b[39m\u001b[39m.\u001b[39mjoin(r)\n\u001b[0;32m    125\u001b[0m \u001b[39mif\u001b[39;00m nitems \u001b[39m<\u001b[39m \u001b[39mlen\u001b[39m(seq):\n",
      "File \u001b[1;32mc:\\Users\\siyun\\anaconda3\\Lib\\site-packages\\pandas\\io\\formats\\printing.py:232\u001b[0m, in \u001b[0;36mpprint_thing\u001b[1;34m(thing, _nest_lvl, escape_chars, default_escapes, quote_strings, max_seq_items)\u001b[0m\n\u001b[0;32m    230\u001b[0m     result \u001b[39m=\u001b[39m \u001b[39mf\u001b[39m\u001b[39m\"\u001b[39m\u001b[39m'\u001b[39m\u001b[39m{\u001b[39;00mas_escaped_string(thing)\u001b[39m}\u001b[39;00m\u001b[39m'\u001b[39m\u001b[39m\"\u001b[39m\n\u001b[0;32m    231\u001b[0m \u001b[39melse\u001b[39;00m:\n\u001b[1;32m--> 232\u001b[0m     result \u001b[39m=\u001b[39m as_escaped_string(thing)\n\u001b[0;32m    234\u001b[0m \u001b[39mreturn\u001b[39;00m result\n",
      "File \u001b[1;32mc:\\Users\\siyun\\anaconda3\\Lib\\site-packages\\pandas\\io\\formats\\printing.py:208\u001b[0m, in \u001b[0;36mpprint_thing.<locals>.as_escaped_string\u001b[1;34m(thing, escape_chars)\u001b[0m\n\u001b[0;32m    205\u001b[0m \u001b[39melse\u001b[39;00m:\n\u001b[0;32m    206\u001b[0m     escape_chars \u001b[39m=\u001b[39m escape_chars \u001b[39mor\u001b[39;00m ()\n\u001b[1;32m--> 208\u001b[0m result \u001b[39m=\u001b[39m \u001b[39mstr\u001b[39m(thing)\n\u001b[0;32m    209\u001b[0m \u001b[39mfor\u001b[39;00m c \u001b[39min\u001b[39;00m escape_chars:\n\u001b[0;32m    210\u001b[0m     result \u001b[39m=\u001b[39m result\u001b[39m.\u001b[39mreplace(c, translate[c])\n",
      "\u001b[1;31mRecursionError\u001b[0m: maximum recursion depth exceeded while getting the repr of an object"
     ]
    }
   ],
   "source": [
    "print(df_pro_players.head())"
   ]
  },
  {
   "cell_type": "code",
   "execution_count": null,
   "metadata": {},
   "outputs": [],
   "source": [
    "df_pro_players.to_csv('all_pro_players_list.csv', index=False)"
   ]
  }
 ],
 "metadata": {
  "kernelspec": {
   "display_name": "base",
   "language": "python",
   "name": "python3"
  },
  "language_info": {
   "codemirror_mode": {
    "name": "ipython",
    "version": 3
   },
   "file_extension": ".py",
   "mimetype": "text/x-python",
   "name": "python",
   "nbconvert_exporter": "python",
   "pygments_lexer": "ipython3",
   "version": "3.11.4"
  },
  "orig_nbformat": 4
 },
 "nbformat": 4,
 "nbformat_minor": 2
}
