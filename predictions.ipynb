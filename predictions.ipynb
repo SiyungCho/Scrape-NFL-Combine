{
 "cells": [
  {
   "cell_type": "code",
   "execution_count": 65,
   "metadata": {},
   "outputs": [],
   "source": [
    "import tensorflow as tf\n",
    "import pandas as pd\n",
    "import matplotlib.pyplot as plt\n",
    "from sklearn.preprocessing import OneHotEncoder, StandardScaler\n",
    "import numpy as np"
   ]
  },
  {
   "cell_type": "code",
   "execution_count": 66,
   "metadata": {},
   "outputs": [
    {
     "name": "stdout",
     "output_type": "stream",
     "text": [
      "Model: \"sequential\"\n",
      "_________________________________________________________________\n",
      " Layer (type)                Output Shape              Param #   \n",
      "=================================================================\n",
      " dense (Dense)               (None, 32)                1856      \n",
      "                                                                 \n",
      " dense_1 (Dense)             (None, 64)                2112      \n",
      "                                                                 \n",
      " dense_2 (Dense)             (None, 128)               8320      \n",
      "                                                                 \n",
      " dense_3 (Dense)             (None, 1)                 129       \n",
      "                                                                 \n",
      "=================================================================\n",
      "Total params: 12417 (48.50 KB)\n",
      "Trainable params: 12417 (48.50 KB)\n",
      "Non-trainable params: 0 (0.00 Byte)\n",
      "_________________________________________________________________\n"
     ]
    }
   ],
   "source": [
    "model = tf.keras.models.load_model('combine_prediction_model.keras')\n",
    "model.summary()"
   ]
  },
  {
   "cell_type": "code",
   "execution_count": 67,
   "metadata": {},
   "outputs": [],
   "source": [
    "player_values = input(\"Please input combine stats in this format\\n(Year, POS, Height (in), Weight (lbs), 40 Yard, Bench Press, Vertical Leap (in), Broad Jump (in), Shuttle, 3 Cone)\\nEnsure no spaces in between values only seperating values with a comma:\\n\")\n",
    "player_values_list = player_values.split(\",\")\n",
    "\n",
    "player_Year, player_POS, player_Height, player_Weight, player_40Yard, player_BenchPress, player_Vert, player_Broad, player_Shuttle, player_3Cone = player_values_list"
   ]
  },
  {
   "cell_type": "code",
   "execution_count": 68,
   "metadata": {},
   "outputs": [
    {
     "name": "stdout",
     "output_type": "stream",
     "text": [
      "2020\n"
     ]
    }
   ],
   "source": [
    "print(player_Year)"
   ]
  },
  {
   "cell_type": "code",
   "execution_count": 69,
   "metadata": {},
   "outputs": [],
   "source": [
    "#player_Year = 2022\n",
    "#player_POS = 'CB'\n",
    "#player_Height = 74.75\n",
    "#player_Weight = 190\n",
    "#player_40Yard = 4.41\n",
    "#player_BenchPress = 21\n",
    "#player_Vert = 32.5\n",
    "#player_Broad = 118\n",
    "#player_Shuttle = 4.51\n",
    "#player_3Cone = 7.31"
   ]
  },
  {
   "cell_type": "code",
   "execution_count": 70,
   "metadata": {},
   "outputs": [],
   "source": [
    "holder_df = pd.DataFrame(columns=['Year', 'POS', \"Height (in)\", \"Weight (lbs)\", \"40 Yard\", \"Bench Press\", \"Vert Leap (in)\", \"Broad Jump (in)\", \"Shuttle\", \"3Cone\"])\n",
    "new_entry = pd.DataFrame({'Year': [float(player_Year)], 'POS': [player_POS], \"Height (in)\": [float(player_Height)], \"Weight (lbs)\": [float(player_Weight)], \"40 Yard\": [float(player_40Yard)], \"Bench Press\": [float(player_BenchPress)], \"Vert Leap (in)\": [float(player_Vert)], \"Broad Jump (in)\": [float(player_Broad)], \"Shuttle\": [float(player_Shuttle)], \"3Cone\": [float(player_3Cone)]})\n",
    "holder_df = pd.concat([holder_df,new_entry], ignore_index=True)"
   ]
  },
  {
   "cell_type": "code",
   "execution_count": 71,
   "metadata": {},
   "outputs": [],
   "source": [
    "sampled_df = pd.read_csv('sampled_data.csv')\n",
    "sampled_df = sampled_df.drop(columns=[\"Pro Bowl\"])\n",
    "pred_df = pd.concat([sampled_df, holder_df], ignore_index=True)"
   ]
  },
  {
   "cell_type": "code",
   "execution_count": 72,
   "metadata": {},
   "outputs": [
    {
     "name": "stdout",
     "output_type": "stream",
     "text": [
      "     Year POS  Height (in)  Weight (lbs)  40 Yard  Bench Press  \\\n",
      "0  2009.0   K        72.88         220.0     4.78         22.0   \n",
      "1  1989.0  DE        75.50         256.0     4.85         20.0   \n",
      "2  2020.0  DE        76.88         264.0     4.74         20.0   \n",
      "3  2016.0  WR        68.13         185.0     4.29         13.0   \n",
      "4  1994.0   C        74.60         270.0     4.90         19.0   \n",
      "\n",
      "   Vert Leap (in)  Broad Jump (in)  Shuttle  3Cone  \n",
      "0            33.0            113.0     4.45   7.31  \n",
      "1            31.4            110.0     4.44   7.31  \n",
      "2            33.5            116.0     4.46   7.31  \n",
      "3            40.5            129.0     4.06   6.53  \n",
      "4            30.7            111.0     4.47   7.31  \n"
     ]
    }
   ],
   "source": [
    "print(pred_df.head())"
   ]
  },
  {
   "cell_type": "code",
   "execution_count": 73,
   "metadata": {},
   "outputs": [],
   "source": [
    "categorical_col = ['Year', 'POS']\n",
    "encoder = OneHotEncoder()\n",
    "encoded_features = encoder.fit_transform(pred_df[categorical_col]).toarray()"
   ]
  },
  {
   "cell_type": "code",
   "execution_count": 74,
   "metadata": {},
   "outputs": [],
   "source": [
    "numerical_col = [\"Height (in)\", \"Weight (lbs)\", \"40 Yard\", \"Bench Press\", \"Vert Leap (in)\", \"Broad Jump (in)\", \"Shuttle\", \"3Cone\"]\n",
    "scalar = StandardScaler()\n",
    "scaled_numerical_features = scalar.fit_transform(pred_df[numerical_col])"
   ]
  },
  {
   "cell_type": "code",
   "execution_count": 75,
   "metadata": {},
   "outputs": [
    {
     "name": "stdout",
     "output_type": "stream",
     "text": [
      "    0    1    2    3    4    5    6    7    8    9   ...   47   48        0   \\\n",
      "0  0.0  0.0  0.0  0.0  0.0  0.0  0.0  0.0  0.0  0.0  ...  0.0  0.0 -0.354009   \n",
      "1  0.0  0.0  1.0  0.0  0.0  0.0  0.0  0.0  0.0  0.0  ...  0.0  0.0  0.641718   \n",
      "2  0.0  0.0  0.0  0.0  0.0  0.0  0.0  0.0  0.0  0.0  ...  0.0  0.0  1.166185   \n",
      "3  0.0  0.0  0.0  0.0  0.0  0.0  0.0  0.0  0.0  0.0  ...  0.0  1.0 -2.159239   \n",
      "4  0.0  0.0  0.0  0.0  0.0  0.0  0.0  1.0  0.0  0.0  ...  0.0  0.0  0.299675   \n",
      "\n",
      "         1         2         3         4         5         6         7   \n",
      "0 -0.458014 -0.012035  0.341885  0.081774 -0.152305  0.246985  0.086990  \n",
      "1  0.353886  0.236518 -0.011419 -0.320220 -0.503674  0.202481  0.086990  \n",
      "2  0.534309 -0.154066 -0.011419  0.207398  0.199065  0.291490  0.086990  \n",
      "3 -1.247361 -1.751907 -1.247981  1.966122  1.721666 -1.488682 -2.464929  \n",
      "4  0.669625  0.414056 -0.188070 -0.496092 -0.386551  0.335994  0.086990  \n",
      "\n",
      "[5 rows x 57 columns]\n"
     ]
    }
   ],
   "source": [
    "pred_data = pd.concat([pd.DataFrame(encoded_features), pd.DataFrame(scaled_numerical_features)], axis=1)\n",
    "print(pred_data.head())"
   ]
  },
  {
   "cell_type": "code",
   "execution_count": 76,
   "metadata": {},
   "outputs": [
    {
     "name": "stdout",
     "output_type": "stream",
     "text": [
      "       0    1    2    3    4    5    6    7    8    9    10   11   12   13   14   15   16   17   18   19   20   21   22   23   24   25   26   27   28   29   30   31   32   33   34   35   36   37   38   39   40   41   42   43   44   45   46   47   48        0         1         2         3         4         5         6        7 \n",
      "1840  0.0  0.0  0.0  0.0  0.0  0.0  0.0  0.0  0.0  0.0  0.0  0.0  0.0  0.0  0.0  0.0  0.0  0.0  0.0  0.0  0.0  0.0  0.0  0.0  0.0  0.0  0.0  0.0  0.0  0.0  0.0  0.0  0.0  1.0  0.0  0.0  0.0  0.0  0.0  0.0  0.0  0.0  0.0  0.0  0.0  0.0  0.0  0.0  1.0 -0.118379 -0.728647 -0.686679 -0.011419 -0.295095  0.316188  0.113473  0.08699\n"
     ]
    }
   ],
   "source": [
    "pred_input = pred_data.tail(1)\n",
    "print(pred_input.to_string())"
   ]
  },
  {
   "cell_type": "code",
   "execution_count": 77,
   "metadata": {},
   "outputs": [],
   "source": [
    "X_predict = np.array(pred_input)"
   ]
  },
  {
   "cell_type": "code",
   "execution_count": 78,
   "metadata": {},
   "outputs": [
    {
     "name": "stdout",
     "output_type": "stream",
     "text": [
      "WARNING:tensorflow:5 out of the last 5 calls to <function Model.make_predict_function.<locals>.predict_function at 0x000001BAF37F1A80> triggered tf.function retracing. Tracing is expensive and the excessive number of tracings could be due to (1) creating @tf.function repeatedly in a loop, (2) passing tensors with different shapes, (3) passing Python objects instead of tensors. For (1), please define your @tf.function outside of the loop. For (2), @tf.function has reduce_retracing=True option that can avoid unnecessary retracing. For (3), please refer to https://www.tensorflow.org/guide/function#controlling_retracing and https://www.tensorflow.org/api_docs/python/tf/function for  more details.\n",
      "1/1 [==============================] - 0s 27ms/step\n",
      "prediction: [[0.3360277]]\n"
     ]
    }
   ],
   "source": [
    "prediction = model.predict(X_predict)\n",
    "print(\"prediction:\", prediction)"
   ]
  },
  {
   "cell_type": "code",
   "execution_count": 79,
   "metadata": {},
   "outputs": [],
   "source": [
    "#2020,WR,73.5,208,4.59,20,31.5,117,4.42,7.31\n",
    "#2020,WR,73.25,202,4.43,20,37.5,126,4.46,7.31\n",
    "#2022,RB,72.38,211,4.48,21,30.0,117,4.51,7.31"
   ]
  },
  {
   "cell_type": "code",
   "execution_count": 80,
   "metadata": {},
   "outputs": [],
   "source": [
    "#2021,WR,71.5,197,4.61,20,38.5,127,4.26,6.9,1\n",
    "#2021,WR,70.13,180,4.48,20,33.0,122,4.21,6.86,0\n",
    "#2021,WR,75.0,211,4.49,12,37.0,124,4.43,7.2,0\n",
    "#2021,WR,72.75,203,4.47,17,40.0,124,4.14,7.02,0"
   ]
  }
 ],
 "metadata": {
  "kernelspec": {
   "display_name": "tf_env",
   "language": "python",
   "name": "python3"
  },
  "language_info": {
   "codemirror_mode": {
    "name": "ipython",
    "version": 3
   },
   "file_extension": ".py",
   "mimetype": "text/x-python",
   "name": "python",
   "nbconvert_exporter": "python",
   "pygments_lexer": "ipython3",
   "version": "3.11.0"
  },
  "orig_nbformat": 4
 },
 "nbformat": 4,
 "nbformat_minor": 2
}
