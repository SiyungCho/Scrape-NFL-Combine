{
 "cells": [
  {
   "cell_type": "code",
   "execution_count": 1,
   "metadata": {},
   "outputs": [],
   "source": [
    "from all_pro_scrapper import all_pro_players"
   ]
  },
  {
   "cell_type": "code",
   "execution_count": 2,
   "metadata": {},
   "outputs": [
    {
     "name": "stdout",
     "output_type": "stream",
     "text": [
      "[['Fredd Young', 'AFC', 'SEA', '26', '3', '13', '13', '0', '0', '0', '0', '0', '0', '0', '0', '0', '0', '0', '0', '9.0', '1', 'PFW: 1st Tm All-Conf., UPI: 1st Tm All-Conf., AP: 1st Tm, FW: 1st Tm, NEA: 1st Tm, PFW: 1st Tm, SN: 1st Tm', 1987], ['Jim Arnold', 'NFC', 'DET', '26', '4', '11', '0', '0', '0', '0', '0', '0', '0', '0', '0', '0', '0', '0', '0', '0.0', '0', 'PFW: 1st Tm All-Conf., UPI: 1st Tm All-Conf., AP: 1st Tm, FW: 1st Tm, NEA: 1st Tm, PFW: 1st Tm, SN: 1st Tm', 1987], ['Joey Browner', 'NFC', 'MIN', '27', '4', '12', '12', '0', '0', '0', '0', '0', '0', '0', '0', '0', '0', '0', '0', '1.0', '6', 'PFW: 1st Tm All-Conf., UPI: 1st Tm All-Conf., AP: 1st Tm, FW: 1st Tm, NEA: 1st Tm, PFW: 1st Tm, SN: 1st Tm', 1987], ['Reggie White', 'NFC', 'PHI', '26', '2', '12', '12', '0', '0', '0', '0', '0', '0', '0', '0', '0', '0', '0', '76', '21.0', '0', 'PFW: 1st Tm All-Conf., UPI: 1st Tm All-Conf., AP: 1st Tm, FW: 1st Tm, NEA: 1st Tm, PFW: 1st Tm, SN: 1st Tm', 1987], ['Morten Andersen', 'NFC', 'NOR', '27', '5', '12', '0', '0', '0', '0', '0', '0', '0', '0', '0', '0', '0', '0', '0', '0.0', '0', 'PFW: 1st Tm All-Conf., UPI: 1st Tm All-Conf., AP: 1st Tm, FW: 1st Tm, NEA: 1st Tm, PFW: 1st Tm, SN: 1st Tm', 1987], ['Mike Munchak', 'AFC', 'HOU', '27', '5', '12', '12', '0', '0', '0', '0', '0', '0', '0', '0', '0', '0', '0', '0', '0.0', '0', 'PFW: 1st Tm All-Conf., UPI: 1st Tm All-Conf., AP: 1st Tm, FW: 1st Tm, NEA: 1st Tm, PFW: 1st Tm, SN: 1st Tm', 1987], ['Hanford Dixon', 'AFC', 'CLE', '29', '6', '12', '12', '0', '0', '0', '0', '0', '0', '0', '0', '0', '0', '0', '0', '0.0', '3', 'PFW: 1st Tm All-Conf., UPI: 1st Tm All-Conf., AP: 1st Tm, FW: 1st Tm, NEA: 1st Tm, PFW: 1st Tm, SN: 1st Tm', 1987], ['Jerry Rice', 'NFC', 'SFO', '25', '2', '12', '12', '0', '0', '0', '0', '0', '8', '51', '1', '65', '1078', '22', '0', '0.0', '0', 'PFW: 1st Tm All-Conf., UPI: 1st Tm All-Conf., AP: 1st Tm, FW: 1st Tm, NEA: 1st Tm, PFW: 1st Tm, SN: 1st Tm', 1987], ['Eric Dickerson', '0', '2TM', '27', '4', '12', '10', '0', '0', '0', '0', '0', '283', '1288', '6', '18', '171', '0', '0', '0.0', '0', 'PFW: 1st Tm All-Conf., UPI: 1st Tm All-Conf., AP: 1st Tm, FW: 1st Tm, NEA: 1st Tm, PFW: 1st Tm, SN: 1st Tm', 1987], ['Mark Bavaro', 'NFC', 'NYG', '24', '2', '12', '12', '0', '0', '0', '0', '0', '0', '0', '0', '55', '867', '8', '0', '0.0', '0', 'PFW: 1st Tm All-Conf., UPI: 1st Tm All-Conf., AP: 1st Tm, FW: 1st Tm, NEA: 1st Tm, PFW: 1st Tm, SN: 1st Tm', 1987], ['Bill Fralic', 'NFC', 'ATL', '25', '2', '12', '12', '0', '0', '0', '0', '0', '0', '0', '0', '0', '0', '0', '0', '0.0', '0', 'PFW: 1st Tm All-Conf., UPI: 1st Tm All-Conf., AP: 1st Tm, FW: 1st Tm, NEA: 2nd Tm, PFW: 1st Tm, SN: 1st Tm', 1987], ['Mike Singletary', 'NFC', 'CHI', '29', '6', '12', '12', '0', '0', '0', '0', '0', '0', '0', '0', '0', '0', '0', '0', '2.0', '0', 'PFW: 1st Tm All-Conf., UPI: 1st Tm All-Conf., AP: 1st Tm, FW: 1st Tm, NEA: 2nd Tm, PFW: 1st Tm, SN: 1st Tm', 1987], ['Charles White', 'NFC', 'RAM', '29', '7', '15', '12', '0', '0', '0', '0', '0', '324', '1374', '11', '23', '121', '0', '0', '0.0', '0', 'PFW: 1st Tm All-Conf., UPI: 1st Tm All-Conf., AP: 1st Tm, FW: 1st Tm, NEA: 2nd Tm, PFW: 1st Tm, SN: 1st Tm', 1987], ['Ronnie Lott', 'NFC', 'SFO', '28', '6', '12', '12', '0', '0', '0', '0', '0', '0', '0', '0', '0', '0', '0', '55', '0.0', '5', 'PFW: 1st Tm All-Conf., UPI: 1st Tm All-Conf., AP: 1st Tm, FW: 1st Tm, NEA: 2nd Tm, PFW: 1st Tm, SN: 1st Tm', 1987], ['Bruce Smith', 'AFC', 'BUF', '24', '2', '12', '12', '0', '0', '0', '0', '0', '0', '0', '0', '0', '0', '0', '78', '12.0', '0', 'PFW: 1st Tm All-Conf., UPI: 1st Tm All-Conf., AP: 1st Tm, FW: 1st Tm, NEA: 2nd Tm, PFW: 1st Tm, SN: 1st Tm', 1987], ['Gary Zimmerman', 'NFC', 'MIN', '26', '1', '12', '12', '0', '0', '0', '0', '0', '0', '0', '0', '0', '0', '0', '0', '0.0', '0', 'PFW: 1st Tm All-Conf., UPI: 2nd Tm All-Conf., AP: 1st Tm, FW: 1st Tm, NEA: 2nd Tm, PFW: 1st Tm, SN: 1st Tm', 1987], ['Steve McMichael', 'NFC', 'CHI', '30', '7', '12', '12', '0', '0', '0', '0', '0', '0', '0', '0', '0', '0', '0', '57', '7.0', '0', 'PFW: 1st Tm All-Conf., UPI: 2nd Tm All-Conf., AP: 1st Tm, FW: 1st Tm, PFW: 1st Tm, SN: 1st Tm', 1987], ['Carl Banks', 'NFC', 'NYG', '25', '3', '12', '12', '0', '0', '0', '0', '0', '0', '0', '0', '0', '0', '0', '101', '9.0', '1', 'UPI: 1st Tm All-Conf., AP: 1st Tm, FW: 1st Tm, NEA: 1st Tm, SN: 1st Tm', 1987], ['Michael Carter', 'NFC', 'SFO', '27', '3', '12', '12', '0', '0', '0', '0', '0', '0', '0', '0', '0', '0', '0', '0', '1.0', '0', 'UPI: 1st Tm All-Conf., AP: 1st Tm, FW: 1st Tm, NEA: 1st Tm, SN: 1st Tm', 1987], ['Frank Minnifield', 'AFC', 'CLE', '27', '3', '12', '12', '0', '0', '0', '0', '0', '0', '0', '0', '0', '0', '0', '0', '0.0', '4', 'PFW: 1st Tm All-Conf., UPI: 1st Tm All-Conf., AP: 2nd Tm, FW: 1st Tm, NEA: 2nd Tm, PFW: 1st Tm, SN: 1st Tm', 1987], ['Joe Montana', 'NFC', 'SFO', '31', '8', '13', '11', '266', '398', '3054', '31', '13', '35', '141', '1', '0', '0', '0', '0', '0.0', '0', 'PFW: 1st Tm All-Conf., UPI: 1st Tm All-Conf., AP: 1st Tm, FW: 1st Tm, NEA: 2nd Tm, PFW: 1st Tm', 1987], ['Andre Tippett', 'AFC', 'NWE', '28', '5', '13', '13', '0', '0', '0', '0', '0', '0', '0', '0', '0', '0', '0', '0', '12.5', '0', 'PFW: 1st Tm All-Conf., UPI: 1st Tm All-Conf., AP: 1st Tm, FW: 1st Tm, NEA: 2nd Tm, PFW: 1st Tm', 1987], ['Anthony Munoz', 'AFC', 'CIN', '29', '7', '11', '11', '0', '0', '0', '0', '0', '0', '0', '0', '2', '15', '1', '0', '0.0', '0', 'PFW: 1st Tm All-Conf., UPI: 1st Tm All-Conf., AP: 1st Tm, FW: 1st Tm, PFW: 1st Tm', 1987], ['Dwight Stephenson', 'AFC', 'MIA', '30', '7', '9', '9', '0', '0', '0', '0', '0', '0', '0', '0', '0', '0', '0', '0', '0.0', '0', 'PFW: 1st Tm All-Conf., UPI: 1st Tm All-Conf., AP: 1st Tm, FW: 1st Tm, PFW: 1st Tm', 1987], ['John Elway', 'AFC', 'DEN', '27', '4', '12', '12', '224', '410', '3198', '19', '12', '66', '304', '4', '0', '0', '0', '0', '0.0', '0', 'PFW: 1st Tm All-Conf., UPI: 1st Tm All-Conf., AP: 2nd Tm, NEA: 1st Tm, SN: 1st Tm', 1987], ['Steve Largent', 'AFC', 'SEA', '33', '11', '13', '13', '0', '2', '0', '0', '0', '2', '33', '0', '58', '912', '8', '0', '0.0', '0', 'PFW: 1st Tm All-Conf., UPI: 1st Tm All-Conf., AP: 2nd Tm, FW: 1st Tm, NEA: 2nd Tm', 1987], ['Chris Doleman', 'NFC', 'MIN', '26', '2', '12', '12', '0', '0', '0', '0', '0', '0', '0', '0', '0', '0', '0', '57', '11.0', '0', 'PFW: 1st Tm All-Conf., UPI: 1st Tm All-Conf., AP: 2nd Tm, NEA: 1st Tm', 1987], ['Keith Bostic', 'AFC', 'HOU', '26', '4', '12', '12', '0', '0', '0', '0', '0', '0', '0', '0', '0', '0', '0', '0', '3.0', '6', 'PFW: 1st Tm All-Conf., UPI: 1st Tm All-Conf., AP: 2nd Tm, NEA: 1st Tm', 1987], ['Karl Mecklenburg', 'AFC', 'DEN', '27', '4', '12', '12', '0', '0', '0', '0', '0', '0', '0', '0', '0', '0', '0', '97', '7.0', '3', 'PFW: 1st Tm All-Conf., UPI: 1st Tm All-Conf., AP: 2nd Tm, NEA: 1st Tm', 1987], ['Bill Maas', 'AFC', 'KAN', '25', '3', '11', '11', '0', '0', '0', '0', '0', '0', '0', '0', '0', '0', '0', '0', '6.0', '0', 'PFW: 1st Tm All-Conf., UPI: 1st Tm All-Conf., NEA: 2nd Tm, PFW: 1st Tm', 1987], ['Jackie Slater', 'NFC', 'RAM', '33', '11', '12', '12', '0', '0', '0', '0', '0', '0', '0', '0', '0', '0', '0', '0', '0.0', '0', 'PFW: 1st Tm All-Conf., UPI: 1st Tm All-Conf., AP: 2nd Tm, NEA: 1st Tm', 1987], ['Ron Solt', 'AFC', 'IND', '25', '3', '12', '12', '0', '0', '0', '0', '0', '0', '0', '0', '0', '0', '0', '0', '0.0', '0', 'PFW: 1st Tm All-Conf., UPI: 1st Tm All-Conf., AP: 2nd Tm, NEA: 1st Tm', 1987], ['Curt Warner', 'AFC', 'SEA', '26', '4', '12', '12', '0', '0', '0', '0', '0', '234', '985', '8', '17', '167', '2', '0', '0.0', '0', 'PFW: 1st Tm All-Conf., UPI: 1st Tm All-Conf., AP: 2nd Tm, NEA: 1st Tm', 1987], ['Jay Hilgenberg', 'NFC', 'CHI', '28', '6', '12', '12', '0', '0', '0', '0', '0', '0', '0', '0', '0', '0', '0', '0', '0.0', '0', 'PFW: 1st Tm All-Conf., UPI: 1st Tm All-Conf., SN: 1st Tm', 1987], ['Lawrence Taylor', 'NFC', 'NYG', '28', '6', '12', '11', '0', '0', '0', '0', '0', '0', '0', '0', '0', '0', '0', '0', '12.0', '3', 'PFW: 1st Tm All-Conf., UPI: 2nd Tm All-Conf., AP: 2nd Tm, PFW: 1st Tm', 1987], ['Chris Hinton', 'AFC', 'IND', '26', '4', '12', '12', '0', '0', '0', '0', '0', '0', '0', '0', '0', '0', '0', '0', '0.0', '0', 'PFW: 1st Tm All-Conf., UPI: 2nd Tm All-Conf., SN: 1st Tm', 1987], ['Ron Wolfley', 'NFC', 'STL', '25', '2', '12', '4', '0', '0', '0', '0', '0', '26', '87', '1', '8', '68', '0', '0', '0.0', '0', 'PFW: 1st Tm All-Conf., PFW: 1st Tm', 1987], ['Dean Biasucci', 'AFC', 'IND', '25', '3', '12', '0', '0', '0', '0', '0', '0', '0', '0', '0', '0', '0', '0', '0', '0.0', '0', 'PFW: 1st Tm All-Conf., UPI: 1st Tm All-Conf., AP: 2nd Tm, NEA: 2nd Tm', 1987], ['Duane Bickett', 'AFC', 'IND', '25', '2', '12', '12', '0', '0', '0', '0', '0', '0', '0', '0', '0', '0', '0', '113', '8.0', '0', 'PFW: 1st Tm All-Conf., UPI: 1st Tm All-Conf., AP: 2nd Tm, NEA: 2nd Tm', 1987], ['Gary Clark', 'NFC', 'WAS', '25', '2', '12', '11', '0', '0', '0', '0', '0', '1', '0', '0', '56', '1066', '7', '0', '0.0', '0', 'AP: 1st Tm, NEA: 2nd Tm', 1987], ['Mike Quick', 'NFC', 'PHI', '28', '5', '12', '12', '0', '0', '0', '0', '0', '0', '0', '0', '46', '790', '11', '0', '0.0', '0', 'UPI: 2nd Tm All-Conf., NEA: 1st Tm', 1987], ['Darrell Green', 'NFC', 'WAS', '27', '4', '12', '12', '0', '0', '0', '0', '0', '0', '0', '0', '0', '0', '0', '48', '0.0', '3', 'NEA: 1st Tm', 1987], ['Al Toon', 'AFC', 'NYJ', '24', '2', '12', '11', '0', '0', '0', '0', '0', '0', '0', '0', '68', '976', '5', '0', '0.0', '0', 'PFW: 1st Tm All-Conf., UPI: 1st Tm All-Conf.', 1987], ['Mike Webster', 'AFC', 'PIT', '35', '13', '15', '15', '0', '0', '0', '0', '0', '0', '0', '0', '0', '0', '0', '0', '0.0', '0', 'NEA: 1st Tm', 1987], ['Jacob Green', 'AFC', 'SEA', '30', '7', '12', '12', '0', '0', '0', '0', '0', '0', '0', '0', '0', '0', '0', '0', '9.5', '0', 'PFW: 1st Tm All-Conf., UPI: 1st Tm All-Conf.', 1987], ['Vai Sikahema', 'NFC', 'STL', '25', '1', '15', '0', '0', '0', '0', '0', '0', '0', '0', '0', '0', '0', '0', '0', '0.0', '0', 'AP: 1st Tm', 1987], ['Herschel Walker', 'NFC', 'DAL', '25', '1', '12', '11', '0', '0', '0', '0', '0', '209', '891', '7', '60', '715', '1', '0', '0.0', '0', 'PFW: 1st Tm All-Conf., UPI: 2nd Tm All-Conf., AP: 2nd Tm, NEA: 2nd Tm', 1987], ['Kenny Easley', 'AFC', 'SEA', '28', '6', '12', '11', '0', '0', '0', '0', '0', '0', '0', '0', '0', '0', '0', '0', '0.0', '4', 'PFW: 1st Tm All-Conf., UPI: 2nd Tm All-Conf., NEA: 2nd Tm', 1987], ['Ralf Mojsiejenko', 'AFC', 'SDG', '24', '2', '12', '0', '0', '0', '0', '0', '0', '0', '0', '0', '0', '0', '0', '0', '0.0', '0', 'UPI: 1st Tm All-Conf., AP: 2nd Tm, NEA: 2nd Tm', 1987], ['Jerry Gray', 'NFC', 'RAM', '25', '2', '12', '12', '0', '0', '0', '0', '0', '0', '0', '0', '0', '0', '0', '0', '0.0', '2', 'PFW: 1st Tm All-Conf., UPI: 2nd Tm All-Conf., NEA: 2nd Tm', 1987], [1987], ['Todd Christensen', 'AFC', 'RAI', '31', '8', '12', '12', '0', '0', '0', '0', '0', '0', '0', '0', '47', '663', '2', '0', '0.0', '0', 'PFW: 1st Tm All-Conf., UPI: 2nd Tm All-Conf.', 1987], ['Wilber Marshall', 'NFC', 'CHI', '25', '3', '12', '12', '0', '0', '0', '0', '0', '1', '1', '0', '0', '0', '0', '93', '5.0', '0', 'PFW: 1st Tm All-Conf., UPI: 2nd Tm All-Conf.', 1987], ['Dave Waymer', 'NFC', 'NOR', '29', '7', '12', '12', '0', '0', '0', '0', '0', '0', '0', '0', '0', '0', '0', '0', '0.0', '5', 'UPI: 1st Tm All-Conf., AP: 2nd Tm', 1987], ['Kellen Winslow', 'AFC', 'SDG', '30', '8', '12', '12', '0', '0', '0', '0', '0', '0', '0', '0', '53', '519', '3', '0', '0.0', '0', 'UPI: 1st Tm All-Conf., AP: 2nd Tm', 1987], ['Jim Lachey', 'AFC', 'SDG', '24', '2', '12', '12', '0', '0', '0', '0', '0', '0', '0', '0', '0', '0', '0', '0', '0.0', '0', 'UPI: 1st Tm All-Conf., AP: 2nd Tm', 1987], ['Rueben Mayes', 'NFC', 'NOR', '24', '1', '12', '12', '0', '0', '0', '0', '0', '243', '917', '5', '15', '68', '0', '0', '0.0', '0', 'UPI: 1st Tm All-Conf.', 1987], ['Steve Tasker', 'AFC', 'BUF', '25', '2', '12', '0', '0', '0', '0', '0', '0', '0', '0', '0', '0', '0', '0', '0', '0.0', '0', 'PFW: 1st Tm All-Conf.', 1987], ['Ray Donaldson', 'AFC', 'IND', '29', '7', '12', '12', '0', '0', '0', '0', '0', '0', '0', '0', '0', '0', '0', '0', '0.0', '0', 'UPI: 2nd Tm All-Conf., AP: 2nd Tm, NEA: 2nd Tm', 1987], ['Charles Mann', 'NFC', 'WAS', '26', '4', '12', '12', '0', '0', '0', '0', '0', '0', '0', '0', '0', '0', '0', '80', '9.5', '0', 'UPI: 2nd Tm All-Conf., AP: 2nd Tm', 1987], ['Keith Bishop', 'AFC', 'DEN', '30', '7', '12', '12', '0', '0', '0', '0', '0', '0', '0', '0', '0', '0', '0', '0', '0.0', '0', 'UPI: 2nd Tm All-Conf., NEA: 2nd Tm', 1987], ['Dave Duerson', 'NFC', 'CHI', '27', '4', '12', '12', '0', '0', '0', '0', '0', '0', '0', '0', '0', '0', '0', '0', '3.0', '3', 'UPI: 2nd Tm All-Conf., AP: 2nd Tm', 1987], ['Tim Krumrie', 'AFC', 'CIN', '27', '4', '12', '12', '0', '0', '0', '0', '0', '0', '0', '0', '0', '0', '0', '88', '3.5', '0', 'UPI: 2nd Tm All-Conf., AP: 2nd Tm', 1987], ['Anthony Carter', 'NFC', 'MIN', '27', '2', '12', '11', '0', '0', '0', '0', '0', '0', '0', '0', '38', '922', '7', '0', '0.0', '0', 'UPI: 2nd Tm All-Conf.', 1987], ['Carlos Carson', 'AFC', 'KAN', '29', '7', '12', '12', '0', '0', '0', '0', '0', '1', '-7', '0', '55', '1044', '7', '0', '0.0', '0', 'UPI: 2nd Tm All-Conf.', 1987], ['Deron Cherry', 'AFC', 'KAN', '28', '6', '8', '8', '0', '0', '0', '0', '0', '0', '0', '0', '0', '0', '0', '0', '0.0', '3', 'UPI: 2nd Tm All-Conf.', 1987], ['Albert Lewis', 'AFC', 'KAN', '27', '4', '12', '12', '0', '0', '0', '0', '0', '0', '0', '0', '0', '0', '0', '43', '0.0', '1', 'UPI: 2nd Tm All-Conf.', 1987], ['Luis Sharpe', 'NFC', 'STL', '27', '5', '12', '12', '0', '0', '0', '0', '0', '0', '0', '0', '0', '0', '0', '0', '0.0', '0', 'UPI: 2nd Tm All-Conf.', 1987], ['Roger Craig', 'NFC', 'SFO', '27', '4', '14', '14', '0', '0', '0', '0', '0', '215', '815', '3', '66', '492', '1', '0', '0.0', '0', 'UPI: 2nd Tm All-Conf.', 1987], ['Dennis Harrah', 'NFC', 'RAM', '34', '12', '8', '8', '0', '0', '0', '0', '0', '0', '0', '0', '0', '0', '0', '0', '0.0', '0', 'UPI: 2nd Tm All-Conf.', 1987], ['John Offerdahl', 'AFC', 'MIA', '23', '1', '9', '9', '0', '0', '0', '0', '0', '0', '0', '0', '0', '0', '0', '0', '1.5', '0', 'UPI: 2nd Tm All-Conf.', 1987], ['Bernie Kosar', 'AFC', 'CLE', '24', '2', '12', '12', '241', '389', '3033', '22', '9', '15', '22', '1', '0', '0', '0', '0', '0.0', '0', 'UPI: 2nd Tm All-Conf.', 1987], ['Neil Lomax', 'NFC', 'STL', '28', '6', '12', '12', '275', '463', '3387', '24', '12', '29', '107', '0', '0', '0', '0', '0', '0.0', '0', 'UPI: 2nd Tm All-Conf.', 1987], ['Steve Jordan', 'NFC', 'MIN', '26', '5', '12', '12', '0', '0', '0', '0', '0', '0', '0', '0', '35', '490', '2', '0', '0.0', '0', 'UPI: 2nd Tm All-Conf.', 1987], ['Mike Rozier', 'AFC', 'HOU', '26', '2', '11', '11', '0', '0', '0', '0', '0', '229', '957', '3', '27', '192', '0', '0', '0.0', '0', 'UPI: 2nd Tm All-Conf.', 1987], ['Brad Edelman', 'NFC', 'NOR', '27', '5', '11', '9', '0', '0', '0', '0', '0', '0', '0', '0', '0', '0', '0', '0', '0.0', '0', 'UPI: 2nd Tm All-Conf.', 1987], ['Cody Risien', 'AFC', 'CLE', '30', '8', '13', '13', '0', '0', '0', '0', '0', '0', '0', '0', '0', '0', '0', '0', '0.0', '0', 'UPI: 2nd Tm All-Conf.', 1987], ['Clay Matthews', 'AFC', 'CLE', '31', '9', '12', '12', '0', '0', '0', '0', '0', '0', '0', '0', '0', '0', '0', '72', '2.5', '3', '0', 1987], ['Gerald Riggs', 'NFC', 'ATL', '27', '5', '12', '12', '0', '0', '0', '0', '0', '203', '875', '2', '25', '199', '0', '0', '0.0', '0', '0', 1987], ['Kevin Mack', 'AFC', 'CLE', '25', '2', '12', '12', '0', '0', '0', '0', '0', '201', '735', '5', '32', '223', '1', '0', '0.0', '0', '0', 1987], ['Bob Golic', 'AFC', 'CLE', '30', '8', '12', '12', '0', '0', '0', '0', '0', '0', '0', '0', '0', '0', '0', '0', '1.5', '0', '0', 1987], ['Jim Kelly', 'AFC', 'BUF', '27', '1', '12', '12', '250', '419', '2798', '19', '11', '29', '133', '0', '1', '35', '0', '0', '0.0', '0', '0', 1987], ['Harry Carson', 'NFC', 'NYG', '34', '11', '12', '12', '0', '0', '0', '0', '0', '0', '0', '0', '0', '0', '0', '0', '1.0', '0', '0', 1987], ['Gerald McNeil', 'AFC', 'CLE', '25', '1', '12', '0', '0', '0', '0', '0', '0', '1', '17', '0', '8', '120', '2', '0', '0.0', '0', '0', 1987], ['Doug Smith', 'NFC', 'RAM', '31', '9', '12', '12', '0', '0', '0', '0', '0', '0', '0', '0', '0', '0', '0', '0', '0.0', '0', '0', 1987], ['Dan Marino', 'AFC', 'MIA', '26', '4', '12', '12', '263', '444', '3245', '26', '13', '12', '-5', '1', '0', '0', '0', '0', '0.0', '0', '0', 1987], ['Howie Long', 'AFC', 'RAI', '27', '6', '14', '14', '0', '0', '0', '0', '0', '0', '0', '0', '0', '0', '0', '0', '4.0', '0', '0', 1987], ['Marcus Allen', 'AFC', 'RAI', '27', '5', '12', '12', '1', '2', '23', '0', '0', '200', '754', '5', '51', '410', '0', '0', '0.0', '0', '0', 1987], ['Scott Studwell', 'NFC', 'MIN', '33', '10', '12', '11', '0', '0', '0', '0', '0', '0', '0', '0', '0', '0', '0', '0', '1.0', '2', '0', 1987], ['Hoby Brenner', 'NFC', 'NOR', '28', '6', '12', '10', '0', '0', '0', '0', '0', '0', '0', '0', '20', '280', '2', '0', '0.0', '0', '0', 1987], ['Sam Mills', 'NFC', 'NOR', '28', '1', '12', '12', '0', '0', '0', '0', '0', '0', '0', '0', '0', '0', '0', '58', '0.0', '0', '0', 1987], ['Stanley Morgan', 'AFC', 'NWE', '32', '10', '10', '9', '0', '0', '0', '0', '0', '0', '0', '0', '40', '672', '3', '0', '0.0', '0', '0', 1987]]\n"
     ]
    }
   ],
   "source": [
    "print(all_pro_players)"
   ]
  },
  {
   "cell_type": "code",
   "execution_count": 3,
   "metadata": {},
   "outputs": [
    {
     "name": "stdout",
     "output_type": "stream",
     "text": [
      "[['Fredd Young', 1987], ['Jim Arnold', 1987], ['Joey Browner', 1987], ['Reggie White', 1987], ['Morten Andersen', 1987], ['Mike Munchak', 1987], ['Hanford Dixon', 1987], ['Jerry Rice', 1987], ['Eric Dickerson', 1987], ['Mark Bavaro', 1987], ['Bill Fralic', 1987], ['Mike Singletary', 1987], ['Charles White', 1987], ['Ronnie Lott', 1987], ['Bruce Smith', 1987], ['Gary Zimmerman', 1987], ['Steve McMichael', 1987], ['Carl Banks', 1987], ['Michael Carter', 1987], ['Frank Minnifield', 1987], ['Joe Montana', 1987], ['Andre Tippett', 1987], ['Anthony Munoz', 1987], ['Dwight Stephenson', 1987], ['John Elway', 1987], ['Steve Largent', 1987], ['Chris Doleman', 1987], ['Keith Bostic', 1987], ['Karl Mecklenburg', 1987], ['Bill Maas', 1987], ['Jackie Slater', 1987], ['Ron Solt', 1987], ['Curt Warner', 1987], ['Jay Hilgenberg', 1987], ['Lawrence Taylor', 1987], ['Chris Hinton', 1987], ['Ron Wolfley', 1987], ['Dean Biasucci', 1987], ['Duane Bickett', 1987], ['Gary Clark', 1987], ['Mike Quick', 1987], ['Darrell Green', 1987], ['Al Toon', 1987], ['Mike Webster', 1987], ['Jacob Green', 1987], ['Vai Sikahema', 1987], ['Herschel Walker', 1987], ['Kenny Easley', 1987], ['Ralf Mojsiejenko', 1987], ['Jerry Gray', 1987], [1987, 1987], ['Todd Christensen', 1987], ['Wilber Marshall', 1987], ['Dave Waymer', 1987], ['Kellen Winslow', 1987], ['Jim Lachey', 1987], ['Rueben Mayes', 1987], ['Steve Tasker', 1987], ['Ray Donaldson', 1987], ['Charles Mann', 1987], ['Keith Bishop', 1987], ['Dave Duerson', 1987], ['Tim Krumrie', 1987], ['Anthony Carter', 1987], ['Carlos Carson', 1987], ['Deron Cherry', 1987], ['Albert Lewis', 1987], ['Luis Sharpe', 1987], ['Roger Craig', 1987], ['Dennis Harrah', 1987], ['John Offerdahl', 1987], ['Bernie Kosar', 1987], ['Neil Lomax', 1987], ['Steve Jordan', 1987], ['Mike Rozier', 1987], ['Brad Edelman', 1987], ['Cody Risien', 1987], ['Clay Matthews', 1987], ['Gerald Riggs', 1987], ['Kevin Mack', 1987], ['Bob Golic', 1987], ['Jim Kelly', 1987], ['Harry Carson', 1987], ['Gerald McNeil', 1987], ['Doug Smith', 1987], ['Dan Marino', 1987], ['Howie Long', 1987], ['Marcus Allen', 1987], ['Scott Studwell', 1987], ['Hoby Brenner', 1987], ['Sam Mills', 1987], ['Stanley Morgan', 1987]]\n"
     ]
    }
   ],
   "source": [
    "all_pro_players = [[inner_list[0], inner_list[-1]] for inner_list in all_pro_players]\n",
    "print(all_pro_players)"
   ]
  },
  {
   "cell_type": "code",
   "execution_count": 5,
   "metadata": {},
   "outputs": [],
   "source": [
    "import pandas as pd\n",
    "all_pro_col = ['Name', 'Year']\n",
    "df_pro_players = pd.DataFrame(all_pro_players, columns=all_pro_col)"
   ]
  },
  {
   "cell_type": "code",
   "execution_count": 7,
   "metadata": {},
   "outputs": [
    {
     "name": "stdout",
     "output_type": "stream",
     "text": [
      "                 Name  Year\n",
      "0         Fredd Young  1987\n",
      "1          Jim Arnold  1987\n",
      "2        Joey Browner  1987\n",
      "3        Reggie White  1987\n",
      "4     Morten Andersen  1987\n",
      "5        Mike Munchak  1987\n",
      "6       Hanford Dixon  1987\n",
      "7          Jerry Rice  1987\n",
      "8      Eric Dickerson  1987\n",
      "9         Mark Bavaro  1987\n",
      "10        Bill Fralic  1987\n",
      "11    Mike Singletary  1987\n",
      "12      Charles White  1987\n",
      "13        Ronnie Lott  1987\n",
      "14        Bruce Smith  1987\n",
      "15     Gary Zimmerman  1987\n",
      "16    Steve McMichael  1987\n",
      "17         Carl Banks  1987\n",
      "18     Michael Carter  1987\n",
      "19   Frank Minnifield  1987\n",
      "20        Joe Montana  1987\n",
      "21      Andre Tippett  1987\n",
      "22      Anthony Munoz  1987\n",
      "23  Dwight Stephenson  1987\n",
      "24         John Elway  1987\n",
      "25      Steve Largent  1987\n",
      "26      Chris Doleman  1987\n",
      "27       Keith Bostic  1987\n",
      "28   Karl Mecklenburg  1987\n",
      "29          Bill Maas  1987\n",
      "30      Jackie Slater  1987\n",
      "31           Ron Solt  1987\n",
      "32        Curt Warner  1987\n",
      "33     Jay Hilgenberg  1987\n",
      "34    Lawrence Taylor  1987\n",
      "35       Chris Hinton  1987\n",
      "36        Ron Wolfley  1987\n",
      "37      Dean Biasucci  1987\n",
      "38      Duane Bickett  1987\n",
      "39         Gary Clark  1987\n",
      "40         Mike Quick  1987\n",
      "41      Darrell Green  1987\n",
      "42            Al Toon  1987\n",
      "43       Mike Webster  1987\n",
      "44        Jacob Green  1987\n",
      "45       Vai Sikahema  1987\n",
      "46    Herschel Walker  1987\n",
      "47       Kenny Easley  1987\n",
      "48   Ralf Mojsiejenko  1987\n",
      "49         Jerry Gray  1987\n",
      "50               1987  1987\n",
      "51   Todd Christensen  1987\n",
      "52    Wilber Marshall  1987\n",
      "53        Dave Waymer  1987\n",
      "54     Kellen Winslow  1987\n",
      "55         Jim Lachey  1987\n",
      "56       Rueben Mayes  1987\n",
      "57       Steve Tasker  1987\n",
      "58      Ray Donaldson  1987\n",
      "59       Charles Mann  1987\n",
      "60       Keith Bishop  1987\n",
      "61       Dave Duerson  1987\n",
      "62        Tim Krumrie  1987\n",
      "63     Anthony Carter  1987\n",
      "64      Carlos Carson  1987\n",
      "65       Deron Cherry  1987\n",
      "66       Albert Lewis  1987\n",
      "67        Luis Sharpe  1987\n",
      "68        Roger Craig  1987\n",
      "69      Dennis Harrah  1987\n",
      "70     John Offerdahl  1987\n",
      "71       Bernie Kosar  1987\n",
      "72         Neil Lomax  1987\n",
      "73       Steve Jordan  1987\n",
      "74        Mike Rozier  1987\n",
      "75       Brad Edelman  1987\n",
      "76        Cody Risien  1987\n",
      "77      Clay Matthews  1987\n",
      "78       Gerald Riggs  1987\n",
      "79         Kevin Mack  1987\n",
      "80          Bob Golic  1987\n",
      "81          Jim Kelly  1987\n",
      "82       Harry Carson  1987\n",
      "83      Gerald McNeil  1987\n",
      "84         Doug Smith  1987\n",
      "85         Dan Marino  1987\n",
      "86         Howie Long  1987\n",
      "87       Marcus Allen  1987\n",
      "88     Scott Studwell  1987\n",
      "89       Hoby Brenner  1987\n",
      "90          Sam Mills  1987\n",
      "91     Stanley Morgan  1987\n"
     ]
    }
   ],
   "source": [
    "print(df_pro_players.to_string())"
   ]
  }
 ],
 "metadata": {
  "kernelspec": {
   "display_name": "base",
   "language": "python",
   "name": "python3"
  },
  "language_info": {
   "codemirror_mode": {
    "name": "ipython",
    "version": 3
   },
   "file_extension": ".py",
   "mimetype": "text/x-python",
   "name": "python",
   "nbconvert_exporter": "python",
   "pygments_lexer": "ipython3",
   "version": "3.11.4"
  },
  "orig_nbformat": 4
 },
 "nbformat": 4,
 "nbformat_minor": 2
}
