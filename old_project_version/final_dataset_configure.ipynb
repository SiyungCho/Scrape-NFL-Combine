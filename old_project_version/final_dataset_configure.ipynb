{
 "cells": [
  {
   "cell_type": "code",
   "execution_count": 1,
   "metadata": {},
   "outputs": [],
   "source": [
    "import pandas as pd"
   ]
  },
  {
   "cell_type": "code",
   "execution_count": 2,
   "metadata": {},
   "outputs": [],
   "source": [
    "df_all_players = pd.read_csv('all_combine_dataset.csv')\n",
    "df_pro_players = pd.read_csv('all_pro_players_list.csv')"
   ]
  },
  {
   "cell_type": "code",
   "execution_count": 3,
   "metadata": {},
   "outputs": [
    {
     "name": "stdout",
     "output_type": "stream",
     "text": [
      "              Name  Year\n",
      "0      Fredd Young  1987\n",
      "1       Jim Arnold  1987\n",
      "2     Joey Browner  1987\n",
      "3     Reggie White  1987\n",
      "4  Morten Andersen  1987\n"
     ]
    }
   ],
   "source": [
    "print(df_pro_players.head())"
   ]
  },
  {
   "cell_type": "code",
   "execution_count": 4,
   "metadata": {},
   "outputs": [
    {
     "name": "stdout",
     "output_type": "stream",
     "text": [
      "   Year             Name               College POS  Height (in)  Weight (lbs)  \\\n",
      "0  1987       Mike Adams         Arizona State  CB         69.8           198   \n",
      "1  1987     John Adickes                Baylor   C         74.8           266   \n",
      "2  1987       Tommy Agee                Auburn  FB         71.8           217   \n",
      "3  1987  David Alexander            Tulsa (OK)   C         75.0           279   \n",
      "4  1987    Lyneal Alston  Southern Mississippi  WR         72.1           202   \n",
      "\n",
      "   40 Yard  Bench Press  Vert Leap (in)  Broad Jump (in)  Shuttle  3Cone  \n",
      "0     4.42           13            32.0              118     4.60   7.31  \n",
      "1     4.97           25            26.5              103     4.60   7.31  \n",
      "2     4.81           15            28.7              109     4.45   7.31  \n",
      "3     5.13           22            27.5              105     4.33   7.31  \n",
      "4     4.64            7            32.0              114     4.52   7.31  \n"
     ]
    }
   ],
   "source": [
    "print(df_all_players.head())"
   ]
  },
  {
   "cell_type": "code",
   "execution_count": 5,
   "metadata": {},
   "outputs": [
    {
     "name": "stdout",
     "output_type": "stream",
     "text": [
      "    Year_x             Name                  College POS  Height (in)  \\\n",
      "0     1987       Mike Adams            Arizona State  CB        69.80   \n",
      "2     1997       Mike Adams                    Texas  WR        71.40   \n",
      "4     2012       Mike Adams               Ohio State  OT        79.25   \n",
      "6     1987  Bruce Armstrong               Louisville  OT        76.00   \n",
      "12    1987       Jerry Ball  Southern Methodist (TX)  DT        72.10   \n",
      "\n",
      "    Weight (lbs)  40 Yard  Bench Press  Vert Leap (in)  Broad Jump (in)  \\\n",
      "0            198     4.42           13            32.0              118   \n",
      "2            184     4.59           19            29.5              112   \n",
      "4            323     5.28           19            28.5              100   \n",
      "6            284     5.05           22            27.0              100   \n",
      "12           292     5.14           23            24.0               96   \n",
      "\n",
      "    Shuttle  3Cone  Year_y  \n",
      "0      4.60   7.31    2014  \n",
      "2      4.38   7.51    2014  \n",
      "4      4.95   7.94    2014  \n",
      "6      4.81   7.31    1990  \n",
      "12     4.77   7.31    1989  \n"
     ]
    }
   ],
   "source": [
    "merged_df = pd.merge(df_all_players, df_pro_players, on=['Name']) #merge both datasets to form singular dataset\n",
    "merged_df = merged_df.drop_duplicates(subset=['Year_x','Name','College','POS','Height (in)','Weight (lbs)','40 Yard','Bench Press','Vert Leap (in)','Broad Jump (in)','Shuttle','3Cone'], keep='first') #drop any duplicated records\n",
    "print(merged_df.head())"
   ]
  },
  {
   "cell_type": "code",
   "execution_count": 6,
   "metadata": {},
   "outputs": [],
   "source": [
    "merged_df = pd.read_csv('merged_dataset.csv') #export data to csv file"
   ]
  },
  {
   "cell_type": "code",
   "execution_count": 7,
   "metadata": {},
   "outputs": [
    {
     "name": "stdout",
     "output_type": "stream",
     "text": [
      "   Unnamed: 0  Year_x             Name                  College POS  \\\n",
      "0           6    1987  Bruce Armstrong               Louisville  OT   \n",
      "1          12    1987       Jerry Ball  Southern Methodist (TX)  DT   \n",
      "2          15    1987    Harris Barton           North Carolina   C   \n",
      "3          16    1987  Steve Beuerlein               Notre Dame  QB   \n",
      "4          17    1987     Jerome Brown               Miami (FL)  DT   \n",
      "\n",
      "   Height (in)  Weight (lbs)  40 Yard  Bench Press  Vert Leap (in)  \\\n",
      "0         76.0           284     5.05           22            27.0   \n",
      "1         72.1           292     5.14           23            24.0   \n",
      "2         76.3           280     5.03           24            31.0   \n",
      "3         74.4           203     5.10            3            23.0   \n",
      "4         74.3           292     4.86           17            28.7   \n",
      "\n",
      "   Broad Jump (in)  Shuttle  3Cone  Year_y  \n",
      "0              100     4.81   7.31    1990  \n",
      "1               96     4.77   7.31    1989  \n",
      "2              106     4.46   7.31    1993  \n",
      "3               93     4.63   7.31    1999  \n",
      "4              109     4.45   7.31    1990  \n"
     ]
    }
   ],
   "source": [
    "print(merged_df.head())"
   ]
  },
  {
   "cell_type": "code",
   "execution_count": 8,
   "metadata": {},
   "outputs": [
    {
     "name": "stdout",
     "output_type": "stream",
     "text": [
      "   Year             Name                  College POS  Height (in)  \\\n",
      "0  1987  Bruce Armstrong               Louisville  OT         76.0   \n",
      "1  1987       Jerry Ball  Southern Methodist (TX)  DT         72.1   \n",
      "2  1987    Harris Barton           North Carolina   C         76.3   \n",
      "3  1987  Steve Beuerlein               Notre Dame  QB         74.4   \n",
      "4  1987     Jerome Brown               Miami (FL)  DT         74.3   \n",
      "\n",
      "   Weight (lbs)  40 Yard  Bench Press  Vert Leap (in)  Broad Jump (in)  \\\n",
      "0           284     5.05           22            27.0              100   \n",
      "1           292     5.14           23            24.0               96   \n",
      "2           280     5.03           24            31.0              106   \n",
      "3           203     5.10            3            23.0               93   \n",
      "4           292     4.86           17            28.7              109   \n",
      "\n",
      "   Shuttle  3Cone  \n",
      "0     4.81   7.31  \n",
      "1     4.77   7.31  \n",
      "2     4.46   7.31  \n",
      "3     4.63   7.31  \n",
      "4     4.45   7.31  \n"
     ]
    }
   ],
   "source": [
    "merged_df.rename(columns={'Year_x': 'Year'}, inplace=True)\n",
    "merged_df = merged_df.drop(columns=['Unnamed: 0', 'Year_y'], axis=1)\n",
    "print(merged_df.head())"
   ]
  },
  {
   "cell_type": "code",
   "execution_count": 9,
   "metadata": {},
   "outputs": [
    {
     "name": "stdout",
     "output_type": "stream",
     "text": [
      "   Year              Name               College POS  Height (in)  \\\n",
      "0  1987        Mike Adams         Arizona State  CB         69.8   \n",
      "1  1987      John Adickes                Baylor   C         74.8   \n",
      "2  1987        Tommy Agee                Auburn  FB         71.8   \n",
      "3  1987   David Alexander            Tulsa (OK)   C         75.0   \n",
      "4  1987     Lyneal Alston  Southern Mississippi  WR         72.1   \n",
      "5  1987      Steve Alvord            Washington  DE         76.5   \n",
      "6  1987  Anthony Anderson  Grambling State (LA)  CB         73.6   \n",
      "7  1987    Joe Armentrout             Wisconsin  FB         72.3   \n",
      "8  1987   Bruce Armstrong            Louisville  OT         76.0   \n",
      "9  1987       Gene Atkins           Florida A&M  FS         71.3   \n",
      "\n",
      "   Weight (lbs)  40 Yard  Bench Press  Vert Leap (in)  Broad Jump (in)  \\\n",
      "0           198     4.42           13            32.0              118   \n",
      "1           266     4.97           25            26.5              103   \n",
      "2           217     4.81           15            28.7              109   \n",
      "3           279     5.13           22            27.5              105   \n",
      "4           202     4.64            7            32.0              114   \n",
      "5           273     4.86           18            28.5              108   \n",
      "6           208     4.69           15            31.0              111   \n",
      "7           220     4.71           18            31.0              116   \n",
      "8           284     5.05           22            27.0              100   \n",
      "9           191     4.58           14            31.0              120   \n",
      "\n",
      "   Shuttle  3Cone  Pro Bowl  \n",
      "0     4.60   7.31         0  \n",
      "1     4.60   7.31         0  \n",
      "2     4.45   7.31         0  \n",
      "3     4.33   7.31         0  \n",
      "4     4.52   7.31         0  \n",
      "5     4.49   7.31         0  \n",
      "6     4.48   7.31         0  \n",
      "7     4.16   7.31         0  \n",
      "8     4.81   7.31         1  \n",
      "9     4.55   7.31         0  \n"
     ]
    }
   ],
   "source": [
    "holder_df = pd.merge(df_all_players, merged_df, on=['Year','Name','College','POS','Height (in)','Weight (lbs)','40 Yard','Bench Press','Vert Leap (in)','Broad Jump (in)','Shuttle','3Cone'], how='outer', indicator=True)\n",
    "df_all_players['Pro Bowl'] = (holder_df['_merge'] == 'both').astype(int)\n",
    "print(df_all_players.head(10))"
   ]
  },
  {
   "cell_type": "code",
   "execution_count": 10,
   "metadata": {},
   "outputs": [],
   "source": [
    "df_all_players.to_csv('final_dataset.csv', index=False)"
   ]
  }
 ],
 "metadata": {
  "kernelspec": {
   "display_name": "base",
   "language": "python",
   "name": "python3"
  },
  "language_info": {
   "codemirror_mode": {
    "name": "ipython",
    "version": 3
   },
   "file_extension": ".py",
   "mimetype": "text/x-python",
   "name": "python",
   "nbconvert_exporter": "python",
   "pygments_lexer": "ipython3",
   "version": "3.11.4"
  },
  "orig_nbformat": 4
 },
 "nbformat": 4,
 "nbformat_minor": 2
}
