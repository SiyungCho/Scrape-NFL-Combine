{
 "cells": [
  {
   "cell_type": "code",
   "execution_count": 1,
   "metadata": {},
   "outputs": [],
   "source": [
    "import pandas as pd\n",
    "import tensorflow as tf\n",
    "from tensorflow.keras.optimizers import Adam\n",
    "import matplotlib.pyplot as plt\n",
    "from sklearn.model_selection import train_test_split\n",
    "from sklearn.preprocessing import OneHotEncoder, StandardScaler\n",
    "import numpy as np\n",
    "import seaborn as sns"
   ]
  },
  {
   "cell_type": "code",
   "execution_count": 2,
   "metadata": {},
   "outputs": [
    {
     "name": "stdout",
     "output_type": "stream",
     "text": [
      "   Year             Name               College POS  Height (in)  Weight (lbs)  \\\n",
      "0  1987       Mike Adams         Arizona State  CB         69.8           198   \n",
      "1  1987     John Adickes                Baylor   C         74.8           266   \n",
      "2  1987       Tommy Agee                Auburn  FB         71.8           217   \n",
      "3  1987  David Alexander            Tulsa (OK)   C         75.0           279   \n",
      "4  1987    Lyneal Alston  Southern Mississippi  WR         72.1           202   \n",
      "\n",
      "   40 Yard  Bench Press  Vert Leap (in)  Broad Jump (in)  Shuttle  3Cone  \\\n",
      "0     4.42           13            32.0              118     4.60   7.31   \n",
      "1     4.97           25            26.5              103     4.60   7.31   \n",
      "2     4.81           15            28.7              109     4.45   7.31   \n",
      "3     5.13           22            27.5              105     4.33   7.31   \n",
      "4     4.64            7            32.0              114     4.52   7.31   \n",
      "\n",
      "   Pro Bowl  \n",
      "0         0  \n",
      "1         0  \n",
      "2         0  \n",
      "3         0  \n",
      "4         0  \n"
     ]
    }
   ],
   "source": [
    "df = pd.read_csv('final_dataset.csv')\n",
    "print(df.head())"
   ]
  },
  {
   "cell_type": "code",
   "execution_count": 3,
   "metadata": {},
   "outputs": [
    {
     "name": "stdout",
     "output_type": "stream",
     "text": [
      "Mean Height (in): 73.74782166064982\n",
      "Mean Weight (lbs): 240.12115523465704\n",
      "Mean 40 Yard: 4.813007942238268\n",
      "Mean Bench Press: 19.794729241877256\n",
      "Mean Vert Leap (in): 32.25071480144405\n",
      "Mean Broad Jump (in): 113.27530685920577\n",
      "Mean Shuttle: 4.420025270758123\n",
      "Mean 3Cone: 7.310358122743683\n"
     ]
    }
   ],
   "source": [
    "# Calculate the mean for specific columns\n",
    "mean_height = df[\"Height (in)\"].mean()\n",
    "mean_weight = df[\"Weight (lbs)\"].mean()\n",
    "mean_40_yard = df[\"40 Yard\"].mean()\n",
    "mean_bench_press = df[\"Bench Press\"].mean()\n",
    "mean_vert_leap = df[\"Vert Leap (in)\"].mean()\n",
    "mean_broad_jump = df[\"Broad Jump (in)\"].mean()\n",
    "mean_shuttle = df[\"Shuttle\"].mean()\n",
    "mean_3cone = df[\"3Cone\"].mean()\n",
    "\n",
    "print(\"Mean Height (in):\", mean_height)\n",
    "print(\"Mean Weight (lbs):\", mean_weight)\n",
    "print(\"Mean 40 Yard:\", mean_40_yard)\n",
    "print(\"Mean Bench Press:\", mean_bench_press)\n",
    "print(\"Mean Vert Leap (in):\", mean_vert_leap)\n",
    "print(\"Mean Broad Jump (in):\", mean_broad_jump)\n",
    "print(\"Mean Shuttle:\", mean_shuttle)\n",
    "print(\"Mean 3Cone:\", mean_3cone)"
   ]
  }
 ],
 "metadata": {
  "kernelspec": {
   "display_name": "tf_env",
   "language": "python",
   "name": "python3"
  },
  "language_info": {
   "codemirror_mode": {
    "name": "ipython",
    "version": 3
   },
   "file_extension": ".py",
   "mimetype": "text/x-python",
   "name": "python",
   "nbconvert_exporter": "python",
   "pygments_lexer": "ipython3",
   "version": "3.11.5"
  }
 },
 "nbformat": 4,
 "nbformat_minor": 2
}
