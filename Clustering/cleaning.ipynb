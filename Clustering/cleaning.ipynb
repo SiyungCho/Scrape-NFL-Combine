{
 "cells": [
  {
   "cell_type": "code",
   "execution_count": 1,
   "metadata": {},
   "outputs": [],
   "source": [
    "import pandas as pd\n",
    "from sklearn.preprocessing import StandardScaler\n",
    "from sklearn.preprocessing import OneHotEncoder"
   ]
  },
  {
   "cell_type": "code",
   "execution_count": 2,
   "metadata": {},
   "outputs": [
    {
     "data": {
      "text/html": [
       "<div>\n",
       "<style scoped>\n",
       "    .dataframe tbody tr th:only-of-type {\n",
       "        vertical-align: middle;\n",
       "    }\n",
       "\n",
       "    .dataframe tbody tr th {\n",
       "        vertical-align: top;\n",
       "    }\n",
       "\n",
       "    .dataframe thead th {\n",
       "        text-align: right;\n",
       "    }\n",
       "</style>\n",
       "<table border=\"1\" class=\"dataframe\">\n",
       "  <thead>\n",
       "    <tr style=\"text-align: right;\">\n",
       "      <th></th>\n",
       "      <th>Year</th>\n",
       "      <th>Name</th>\n",
       "      <th>College</th>\n",
       "      <th>POS</th>\n",
       "      <th>Height (in)</th>\n",
       "      <th>Weight (lbs)</th>\n",
       "      <th>Wonderlic</th>\n",
       "      <th>40 Yard</th>\n",
       "      <th>Bench Press</th>\n",
       "      <th>Vert Leap (in)</th>\n",
       "      <th>Broad Jump (in)</th>\n",
       "      <th>Shuttle</th>\n",
       "      <th>3Cone</th>\n",
       "      <th>ProBowl_Age</th>\n",
       "      <th>ProBowl_Year</th>\n",
       "      <th>ProBowl</th>\n",
       "    </tr>\n",
       "  </thead>\n",
       "  <tbody>\n",
       "    <tr>\n",
       "      <th>0</th>\n",
       "      <td>1987</td>\n",
       "      <td>Mike Adams</td>\n",
       "      <td>Arizona State</td>\n",
       "      <td>DB</td>\n",
       "      <td>69.8</td>\n",
       "      <td>198.0</td>\n",
       "      <td>0.0</td>\n",
       "      <td>4.42</td>\n",
       "      <td>13.0</td>\n",
       "      <td>32.0</td>\n",
       "      <td>118.0</td>\n",
       "      <td>4.60</td>\n",
       "      <td>0.0</td>\n",
       "      <td>[]</td>\n",
       "      <td>[]</td>\n",
       "      <td>0</td>\n",
       "    </tr>\n",
       "    <tr>\n",
       "      <th>1</th>\n",
       "      <td>1987</td>\n",
       "      <td>John Adickes</td>\n",
       "      <td>Baylor</td>\n",
       "      <td>C</td>\n",
       "      <td>74.8</td>\n",
       "      <td>266.0</td>\n",
       "      <td>0.0</td>\n",
       "      <td>4.97</td>\n",
       "      <td>25.0</td>\n",
       "      <td>26.5</td>\n",
       "      <td>103.0</td>\n",
       "      <td>4.60</td>\n",
       "      <td>0.0</td>\n",
       "      <td>[]</td>\n",
       "      <td>[]</td>\n",
       "      <td>0</td>\n",
       "    </tr>\n",
       "    <tr>\n",
       "      <th>2</th>\n",
       "      <td>1987</td>\n",
       "      <td>Tommy Agee</td>\n",
       "      <td>Auburn</td>\n",
       "      <td>RB</td>\n",
       "      <td>71.8</td>\n",
       "      <td>217.0</td>\n",
       "      <td>0.0</td>\n",
       "      <td>0.00</td>\n",
       "      <td>15.0</td>\n",
       "      <td>0.0</td>\n",
       "      <td>0.0</td>\n",
       "      <td>0.00</td>\n",
       "      <td>0.0</td>\n",
       "      <td>[]</td>\n",
       "      <td>[]</td>\n",
       "      <td>0</td>\n",
       "    </tr>\n",
       "    <tr>\n",
       "      <th>3</th>\n",
       "      <td>1987</td>\n",
       "      <td>David Alexander</td>\n",
       "      <td>Tulsa (OK)</td>\n",
       "      <td>C</td>\n",
       "      <td>75.0</td>\n",
       "      <td>279.0</td>\n",
       "      <td>0.0</td>\n",
       "      <td>5.13</td>\n",
       "      <td>22.0</td>\n",
       "      <td>27.5</td>\n",
       "      <td>105.0</td>\n",
       "      <td>4.33</td>\n",
       "      <td>0.0</td>\n",
       "      <td>[]</td>\n",
       "      <td>[]</td>\n",
       "      <td>0</td>\n",
       "    </tr>\n",
       "    <tr>\n",
       "      <th>4</th>\n",
       "      <td>1987</td>\n",
       "      <td>Lyneal Alston</td>\n",
       "      <td>Southern Mississippi</td>\n",
       "      <td>WR</td>\n",
       "      <td>72.1</td>\n",
       "      <td>202.0</td>\n",
       "      <td>0.0</td>\n",
       "      <td>4.64</td>\n",
       "      <td>7.0</td>\n",
       "      <td>32.0</td>\n",
       "      <td>114.0</td>\n",
       "      <td>4.52</td>\n",
       "      <td>0.0</td>\n",
       "      <td>[]</td>\n",
       "      <td>[]</td>\n",
       "      <td>0</td>\n",
       "    </tr>\n",
       "  </tbody>\n",
       "</table>\n",
       "</div>"
      ],
      "text/plain": [
       "   Year             Name               College POS  Height (in)  Weight (lbs)  \\\n",
       "0  1987       Mike Adams         Arizona State  DB         69.8         198.0   \n",
       "1  1987     John Adickes                Baylor   C         74.8         266.0   \n",
       "2  1987       Tommy Agee                Auburn  RB         71.8         217.0   \n",
       "3  1987  David Alexander            Tulsa (OK)   C         75.0         279.0   \n",
       "4  1987    Lyneal Alston  Southern Mississippi  WR         72.1         202.0   \n",
       "\n",
       "   Wonderlic  40 Yard  Bench Press  Vert Leap (in)  Broad Jump (in)  Shuttle  \\\n",
       "0        0.0     4.42         13.0            32.0            118.0     4.60   \n",
       "1        0.0     4.97         25.0            26.5            103.0     4.60   \n",
       "2        0.0     0.00         15.0             0.0              0.0     0.00   \n",
       "3        0.0     5.13         22.0            27.5            105.0     4.33   \n",
       "4        0.0     4.64          7.0            32.0            114.0     4.52   \n",
       "\n",
       "   3Cone ProBowl_Age ProBowl_Year  ProBowl  \n",
       "0    0.0          []           []        0  \n",
       "1    0.0          []           []        0  \n",
       "2    0.0          []           []        0  \n",
       "3    0.0          []           []        0  \n",
       "4    0.0          []           []        0  "
      ]
     },
     "execution_count": 2,
     "metadata": {},
     "output_type": "execute_result"
    }
   ],
   "source": [
    "df = pd.read_csv('../Expolratory_data_analysis/csv_files/all_players.csv')\n",
    "df.head()"
   ]
  },
  {
   "cell_type": "code",
   "execution_count": 3,
   "metadata": {},
   "outputs": [],
   "source": [
    "%store -r comparison"
   ]
  },
  {
   "cell_type": "code",
   "execution_count": 4,
   "metadata": {},
   "outputs": [],
   "source": [
    "list_of_pos = ['DB','C','RB','WR','DE','OT','S','TE','DT','LB','QB','OG','K']\n",
    "list_of_metrics = ['Height (in)','Weight (lbs)','40 Yard','Bench Press','Vert Leap (in)','Broad Jump (in)','Shuttle','3Cone']"
   ]
  },
  {
   "cell_type": "code",
   "execution_count": 5,
   "metadata": {},
   "outputs": [
    {
     "name": "stdout",
     "output_type": "stream",
     "text": [
      "923\n"
     ]
    }
   ],
   "source": [
    "count_ones = (df['ProBowl'] == 1).sum()\n",
    "print(count_ones)"
   ]
  },
  {
   "cell_type": "code",
   "execution_count": 6,
   "metadata": {},
   "outputs": [
    {
     "name": "stdout",
     "output_type": "stream",
     "text": [
      "DB : 94\n",
      "C : 34\n",
      "RB : 112\n",
      "WR : 112\n",
      "DE : 79\n",
      "OT : 69\n",
      "S : 62\n",
      "TE : 53\n",
      "DT : 57\n",
      "LB : 107\n",
      "QB : 66\n",
      "OG : 50\n",
      "K : 28\n"
     ]
    }
   ],
   "source": [
    "def count_of_probowlers(df, pos):\n",
    "    count_ones = ((df['ProBowl'] == 1) & (df['POS']==pos)).sum()\n",
    "    print(pos + ' : ' + str(count_ones))\n",
    "\n",
    "for pos in list_of_pos:\n",
    "    count_of_probowlers(df, pos)"
   ]
  },
  {
   "cell_type": "code",
   "execution_count": 7,
   "metadata": {},
   "outputs": [],
   "source": [
    "#remove all rows that have little combine data\n",
    "zero_count = df[['40 Yard', 'Bench Press', 'Vert Leap (in)', 'Broad Jump (in)', 'Shuttle', '3Cone']].eq(0).sum(axis=1)\n",
    "\n",
    "# Create a mask where the count of zeros is 3 or more\n",
    "mask = (zero_count >= 4) & (df['POS']!='K')\n",
    "\n",
    "# Drop the rows where the mask is True (i.e., where 3 or fewer of the specified columns are 0)\n",
    "df = df[~mask]"
   ]
  },
  {
   "cell_type": "code",
   "execution_count": 8,
   "metadata": {},
   "outputs": [
    {
     "name": "stdout",
     "output_type": "stream",
     "text": [
      "803\n"
     ]
    }
   ],
   "source": [
    "count_ones = (df['ProBowl'] == 1).sum()\n",
    "print(count_ones)"
   ]
  },
  {
   "cell_type": "code",
   "execution_count": 9,
   "metadata": {},
   "outputs": [
    {
     "name": "stdout",
     "output_type": "stream",
     "text": [
      "DB : 84\n",
      "C : 29\n",
      "RB : 94\n",
      "WR : 96\n",
      "DE : 69\n",
      "OT : 61\n",
      "S : 55\n",
      "TE : 48\n",
      "DT : 44\n",
      "LB : 98\n",
      "QB : 49\n",
      "OG : 48\n",
      "K : 28\n"
     ]
    }
   ],
   "source": [
    "for pos in list_of_pos:\n",
    "    count_of_probowlers(df, pos)"
   ]
  },
  {
   "cell_type": "code",
   "execution_count": 10,
   "metadata": {},
   "outputs": [
    {
     "name": "stdout",
     "output_type": "stream",
     "text": [
      "   Year             Name               College POS  Height (in)  Weight (lbs)  \\\n",
      "0  1987       Mike Adams         Arizona State  DB         69.8         198.0   \n",
      "1  1987     John Adickes                Baylor   C         74.8         266.0   \n",
      "3  1987  David Alexander            Tulsa (OK)   C         75.0         279.0   \n",
      "4  1987    Lyneal Alston  Southern Mississippi  WR         72.1         202.0   \n",
      "5  1987     Steve Alvord            Washington  DE         76.5         273.0   \n",
      "\n",
      "   Wonderlic  40 Yard  Bench Press  Vert Leap (in)  Broad Jump (in)  Shuttle  \\\n",
      "0        0.0     4.42         13.0            32.0            118.0     4.60   \n",
      "1        0.0     4.97         25.0            26.5            103.0     4.60   \n",
      "3        0.0     5.13         22.0            27.5            105.0     4.33   \n",
      "4        0.0     4.64          7.0            32.0            114.0     4.52   \n",
      "5        0.0     4.86         18.0            28.5            108.0     4.49   \n",
      "\n",
      "   3Cone ProBowl_Age ProBowl_Year  ProBowl  \n",
      "0    0.0          []           []        0  \n",
      "1    0.0          []           []        0  \n",
      "3    0.0          []           []        0  \n",
      "4    0.0          []           []        0  \n",
      "5    0.0          []           []        0  \n"
     ]
    }
   ],
   "source": [
    "print(df.head())"
   ]
  },
  {
   "cell_type": "code",
   "execution_count": 11,
   "metadata": {},
   "outputs": [],
   "source": [
    "df.drop(['Year', 'Name', 'College', 'Wonderlic', 'ProBowl_Age', 'ProBowl_Year'], axis=1, inplace=True)"
   ]
  },
  {
   "cell_type": "code",
   "execution_count": 12,
   "metadata": {},
   "outputs": [
    {
     "name": "stdout",
     "output_type": "stream",
     "text": [
      "  POS  Height (in)  Weight (lbs)  40 Yard  Bench Press  Vert Leap (in)  \\\n",
      "0  DB         69.8         198.0     4.42         13.0            32.0   \n",
      "1   C         74.8         266.0     4.97         25.0            26.5   \n",
      "3   C         75.0         279.0     5.13         22.0            27.5   \n",
      "4  WR         72.1         202.0     4.64          7.0            32.0   \n",
      "5  DE         76.5         273.0     4.86         18.0            28.5   \n",
      "\n",
      "   Broad Jump (in)  Shuttle  3Cone  ProBowl  \n",
      "0            118.0     4.60    0.0        0  \n",
      "1            103.0     4.60    0.0        0  \n",
      "3            105.0     4.33    0.0        0  \n",
      "4            114.0     4.52    0.0        0  \n",
      "5            108.0     4.49    0.0        0  \n"
     ]
    }
   ],
   "source": [
    "print(df.head())"
   ]
  },
  {
   "cell_type": "code",
   "execution_count": 13,
   "metadata": {},
   "outputs": [],
   "source": [
    "for metric in list_of_metrics:\n",
    "    if metric == 'Height (in)':\n",
    "        parse_metric = 'Height_in'\n",
    "    if metric == 'Weight (lbs)':\n",
    "        parse_metric = 'Weight_lbs'\n",
    "    if metric == '40 Yard':\n",
    "        parse_metric = 'Forty_Yard'\n",
    "    if metric == 'Bench Press':\n",
    "        parse_metric = 'Bench_Press'\n",
    "    if metric == 'Vert Leap (in)':\n",
    "        parse_metric = 'Vert_Leap_in'\n",
    "    if metric == 'Broad Jump (in)':\n",
    "        parse_metric = 'Broad_Jump_in'\n",
    "    if metric == 'Shuttle':\n",
    "        parse_metric = 'Shuttle'\n",
    "    if metric == '3Cone':\n",
    "        parse_metric = 'Three_Cone'\n",
    "\n",
    "    for pos in list_of_pos:\n",
    "        df.loc[(df[metric] == 0) & (df['POS'] == pos), metric] = comparison[parse_metric][pos + '_avg'][2]"
   ]
  },
  {
   "cell_type": "code",
   "execution_count": 14,
   "metadata": {},
   "outputs": [
    {
     "name": "stdout",
     "output_type": "stream",
     "text": [
      "      POS  Height (in)  Weight (lbs)  40 Yard  Bench Press  Vert Leap (in)  \\\n",
      "13842  DE        76.00         278.0     4.79         23.0           32.22   \n",
      "13843  OT        77.38         333.0     5.01         23.2           29.00   \n",
      "13845   C        74.63         303.0     5.14         29.0           30.50   \n",
      "13847  DT        75.38         294.0     5.12         24.0           26.00   \n",
      "13848  LB        74.38         250.0     4.40         22.0           38.00   \n",
      "\n",
      "       Broad Jump (in)  Shuttle  3Cone  ProBowl  \n",
      "13842            115.0     4.52   7.49        0  \n",
      "13843            114.0     4.72   7.87        0  \n",
      "13845            106.0     4.53   7.64        0  \n",
      "13847            108.0     4.66   7.68        0  \n",
      "13848            132.0     4.34   7.19        0  \n"
     ]
    }
   ],
   "source": [
    "print(df.tail())"
   ]
  },
  {
   "cell_type": "code",
   "execution_count": 15,
   "metadata": {},
   "outputs": [],
   "source": [
    "scaler = StandardScaler()\n",
    "\n",
    "# List of columns to be standardized\n",
    "columns_to_scale = ['Height (in)', 'Weight (lbs)', '40 Yard', 'Bench Press', 'Vert Leap (in)', 'Broad Jump (in)', 'Shuttle', '3Cone']\n",
    "\n",
    "# Apply the scaler to the specified columns\n",
    "scaled_columns = scaler.fit_transform(df[columns_to_scale])\n",
    "\n",
    "# Replace the original columns with the scaled values\n",
    "df[columns_to_scale] = scaled_columns"
   ]
  },
  {
   "cell_type": "code",
   "execution_count": 16,
   "metadata": {},
   "outputs": [
    {
     "name": "stdout",
     "output_type": "stream",
     "text": [
      "      POS  Height (in)  Weight (lbs)   40 Yard  Bench Press  Vert Leap (in)  \\\n",
      "13842  DE     0.854498      0.841634 -0.084205     0.649461        0.002553   \n",
      "13843  OT     1.376078      2.061904  0.632245     0.682280       -0.766940   \n",
      "13845   C     0.336697      1.396302  1.055601     1.634019       -0.408481   \n",
      "13847  DT     0.620165      1.196622  0.990470     0.813554       -1.483859   \n",
      "13848  LB     0.242208      0.220406 -1.354275     0.485368        1.383818   \n",
      "\n",
      "       Broad Jump (in)   Shuttle     3Cone  ProBowl  \n",
      "13842         0.184972  0.405210  0.475637        0  \n",
      "13843         0.080999  1.190146  1.455840        0  \n",
      "13845        -0.750793  0.444457  0.862559        0  \n",
      "13847        -0.542845  0.954665  0.965739        0  \n",
      "13848         1.952529 -0.301232 -0.298207        0  \n"
     ]
    }
   ],
   "source": [
    "print(df.tail())"
   ]
  },
  {
   "cell_type": "code",
   "execution_count": 17,
   "metadata": {},
   "outputs": [
    {
     "data": {
      "text/html": [
       "<div>\n",
       "<style scoped>\n",
       "    .dataframe tbody tr th:only-of-type {\n",
       "        vertical-align: middle;\n",
       "    }\n",
       "\n",
       "    .dataframe tbody tr th {\n",
       "        vertical-align: top;\n",
       "    }\n",
       "\n",
       "    .dataframe thead th {\n",
       "        text-align: right;\n",
       "    }\n",
       "</style>\n",
       "<table border=\"1\" class=\"dataframe\">\n",
       "  <thead>\n",
       "    <tr style=\"text-align: right;\">\n",
       "      <th></th>\n",
       "      <th>Height (in)</th>\n",
       "      <th>Weight (lbs)</th>\n",
       "      <th>40 Yard</th>\n",
       "      <th>Bench Press</th>\n",
       "      <th>Vert Leap (in)</th>\n",
       "      <th>Broad Jump (in)</th>\n",
       "      <th>Shuttle</th>\n",
       "      <th>3Cone</th>\n",
       "      <th>ProBowl</th>\n",
       "    </tr>\n",
       "  </thead>\n",
       "  <tbody>\n",
       "    <tr>\n",
       "      <th>count</th>\n",
       "      <td>1.222500e+04</td>\n",
       "      <td>1.222500e+04</td>\n",
       "      <td>1.222500e+04</td>\n",
       "      <td>1.222500e+04</td>\n",
       "      <td>1.222500e+04</td>\n",
       "      <td>1.222500e+04</td>\n",
       "      <td>1.222500e+04</td>\n",
       "      <td>1.222500e+04</td>\n",
       "      <td>12225.000000</td>\n",
       "    </tr>\n",
       "    <tr>\n",
       "      <th>mean</th>\n",
       "      <td>5.533224e-16</td>\n",
       "      <td>-1.092696e-16</td>\n",
       "      <td>1.450728e-15</td>\n",
       "      <td>-4.312660e-16</td>\n",
       "      <td>-1.859907e-15</td>\n",
       "      <td>8.555574e-16</td>\n",
       "      <td>-1.487926e-16</td>\n",
       "      <td>-1.348433e-16</td>\n",
       "      <td>0.065685</td>\n",
       "    </tr>\n",
       "    <tr>\n",
       "      <th>std</th>\n",
       "      <td>1.000041e+00</td>\n",
       "      <td>1.000041e+00</td>\n",
       "      <td>1.000041e+00</td>\n",
       "      <td>1.000041e+00</td>\n",
       "      <td>1.000041e+00</td>\n",
       "      <td>1.000041e+00</td>\n",
       "      <td>1.000041e+00</td>\n",
       "      <td>1.000041e+00</td>\n",
       "      <td>0.247741</td>\n",
       "    </tr>\n",
       "    <tr>\n",
       "      <th>min</th>\n",
       "      <td>-4.625876e+00</td>\n",
       "      <td>-2.131386e+00</td>\n",
       "      <td>-1.973027e+00</td>\n",
       "      <td>-2.960583e+00</td>\n",
       "      <td>-3.515131e+00</td>\n",
       "      <td>-1.104421e+01</td>\n",
       "      <td>-2.695288e+00</td>\n",
       "      <td>-2.671330e+00</td>\n",
       "      <td>0.000000</td>\n",
       "    </tr>\n",
       "    <tr>\n",
       "      <th>25%</th>\n",
       "      <td>-7.026840e-01</td>\n",
       "      <td>-8.223696e-01</td>\n",
       "      <td>-8.006549e-01</td>\n",
       "      <td>-6.632821e-01</td>\n",
       "      <td>-6.474536e-01</td>\n",
       "      <td>-5.428451e-01</td>\n",
       "      <td>-6.937006e-01</td>\n",
       "      <td>-7.367188e-01</td>\n",
       "      <td>0.000000</td>\n",
       "    </tr>\n",
       "    <tr>\n",
       "      <th>50%</th>\n",
       "      <td>6.078875e-02</td>\n",
       "      <td>-2.011414e-01</td>\n",
       "      <td>-2.144688e-01</td>\n",
       "      <td>-5.613830e-02</td>\n",
       "      <td>6.946562e-02</td>\n",
       "      <td>8.099855e-02</td>\n",
       "      <td>-1.442453e-01</td>\n",
       "      <td>-2.724122e-01</td>\n",
       "      <td>0.000000</td>\n",
       "    </tr>\n",
       "    <tr>\n",
       "      <th>75%</th>\n",
       "      <td>7.600088e-01</td>\n",
       "      <td>7.750742e-01</td>\n",
       "      <td>6.648105e-01</td>\n",
       "      <td>6.494612e-01</td>\n",
       "      <td>6.668983e-01</td>\n",
       "      <td>7.048422e-01</td>\n",
       "      <td>6.014441e-01</td>\n",
       "      <td>5.788166e-01</td>\n",
       "      <td>0.000000</td>\n",
       "    </tr>\n",
       "    <tr>\n",
       "      <th>max</th>\n",
       "      <td>3.273422e+00</td>\n",
       "      <td>3.259987e+00</td>\n",
       "      <td>4.247059e+00</td>\n",
       "      <td>9.018199e+00</td>\n",
       "      <td>3.415089e+00</td>\n",
       "      <td>3.512138e+00</td>\n",
       "      <td>1.092335e+01</td>\n",
       "      <td>5.944137e+00</td>\n",
       "      <td>1.000000</td>\n",
       "    </tr>\n",
       "  </tbody>\n",
       "</table>\n",
       "</div>"
      ],
      "text/plain": [
       "        Height (in)  Weight (lbs)       40 Yard   Bench Press  Vert Leap (in)  \\\n",
       "count  1.222500e+04  1.222500e+04  1.222500e+04  1.222500e+04    1.222500e+04   \n",
       "mean   5.533224e-16 -1.092696e-16  1.450728e-15 -4.312660e-16   -1.859907e-15   \n",
       "std    1.000041e+00  1.000041e+00  1.000041e+00  1.000041e+00    1.000041e+00   \n",
       "min   -4.625876e+00 -2.131386e+00 -1.973027e+00 -2.960583e+00   -3.515131e+00   \n",
       "25%   -7.026840e-01 -8.223696e-01 -8.006549e-01 -6.632821e-01   -6.474536e-01   \n",
       "50%    6.078875e-02 -2.011414e-01 -2.144688e-01 -5.613830e-02    6.946562e-02   \n",
       "75%    7.600088e-01  7.750742e-01  6.648105e-01  6.494612e-01    6.668983e-01   \n",
       "max    3.273422e+00  3.259987e+00  4.247059e+00  9.018199e+00    3.415089e+00   \n",
       "\n",
       "       Broad Jump (in)       Shuttle         3Cone       ProBowl  \n",
       "count     1.222500e+04  1.222500e+04  1.222500e+04  12225.000000  \n",
       "mean      8.555574e-16 -1.487926e-16 -1.348433e-16      0.065685  \n",
       "std       1.000041e+00  1.000041e+00  1.000041e+00      0.247741  \n",
       "min      -1.104421e+01 -2.695288e+00 -2.671330e+00      0.000000  \n",
       "25%      -5.428451e-01 -6.937006e-01 -7.367188e-01      0.000000  \n",
       "50%       8.099855e-02 -1.442453e-01 -2.724122e-01      0.000000  \n",
       "75%       7.048422e-01  6.014441e-01  5.788166e-01      0.000000  \n",
       "max       3.512138e+00  1.092335e+01  5.944137e+00      1.000000  "
      ]
     },
     "execution_count": 17,
     "metadata": {},
     "output_type": "execute_result"
    }
   ],
   "source": [
    "df.describe()"
   ]
  },
  {
   "cell_type": "code",
   "execution_count": 18,
   "metadata": {},
   "outputs": [
    {
     "name": "stderr",
     "output_type": "stream",
     "text": [
      "c:\\Users\\siyun\\anaconda3\\envs\\'nfl_env'\\Lib\\site-packages\\sklearn\\preprocessing\\_encoders.py:975: FutureWarning: `sparse` was renamed to `sparse_output` in version 1.2 and will be removed in 1.4. `sparse_output` is ignored unless you leave `sparse` to its default value.\n",
      "  warnings.warn(\n"
     ]
    }
   ],
   "source": [
    "# Fit the encoder on the 'POS' column\n",
    "encoder = OneHotEncoder(sparse=False)\n",
    "\n",
    "encoder.fit(df[['POS']])\n",
    "category_encoded = encoder.transform(df[['POS']])\n",
    "df_encoded = pd.DataFrame(category_encoded, columns=encoder.get_feature_names_out(['POS']), index=df.index)\n",
    "df = df.drop('POS', axis=1)\n",
    "df = pd.concat([df, df_encoded], axis=1)"
   ]
  },
  {
   "cell_type": "code",
   "execution_count": 19,
   "metadata": {},
   "outputs": [
    {
     "name": "stdout",
     "output_type": "stream",
     "text": [
      "       Height (in)  Weight (lbs)   40 Yard  Bench Press  Vert Leap (in)  \\\n",
      "13842     0.854498      0.841634 -0.084205     0.649461        0.002553   \n",
      "13843     1.376078      2.061904  0.632245     0.682280       -0.766940   \n",
      "13845     0.336697      1.396302  1.055601     1.634019       -0.408481   \n",
      "13847     0.620165      1.196622  0.990470     0.813554       -1.483859   \n",
      "13848     0.242208      0.220406 -1.354275     0.485368        1.383818   \n",
      "\n",
      "       Broad Jump (in)   Shuttle     3Cone  ProBowl  POS_C  ...  POS_DT  \\\n",
      "13842         0.184972  0.405210  0.475637        0    0.0  ...     0.0   \n",
      "13843         0.080999  1.190146  1.455840        0    0.0  ...     0.0   \n",
      "13845        -0.750793  0.444457  0.862559        0    1.0  ...     0.0   \n",
      "13847        -0.542845  0.954665  0.965739        0    0.0  ...     1.0   \n",
      "13848         1.952529 -0.301232 -0.298207        0    0.0  ...     0.0   \n",
      "\n",
      "       POS_K  POS_LB  POS_OG  POS_OT  POS_QB  POS_RB  POS_S  POS_TE  POS_WR  \n",
      "13842    0.0     0.0     0.0     0.0     0.0     0.0    0.0     0.0     0.0  \n",
      "13843    0.0     0.0     0.0     1.0     0.0     0.0    0.0     0.0     0.0  \n",
      "13845    0.0     0.0     0.0     0.0     0.0     0.0    0.0     0.0     0.0  \n",
      "13847    0.0     0.0     0.0     0.0     0.0     0.0    0.0     0.0     0.0  \n",
      "13848    0.0     1.0     0.0     0.0     0.0     0.0    0.0     0.0     0.0  \n",
      "\n",
      "[5 rows x 22 columns]\n"
     ]
    }
   ],
   "source": [
    "print(df.tail())"
   ]
  },
  {
   "cell_type": "code",
   "execution_count": 20,
   "metadata": {},
   "outputs": [],
   "source": [
    "#df.to_csv('../Clustering/csv_files/cleaned_players.csv', index=False)"
   ]
  }
 ],
 "metadata": {
  "kernelspec": {
   "display_name": "'nfl_env'",
   "language": "python",
   "name": "python3"
  },
  "language_info": {
   "codemirror_mode": {
    "name": "ipython",
    "version": 3
   },
   "file_extension": ".py",
   "mimetype": "text/x-python",
   "name": "python",
   "nbconvert_exporter": "python",
   "pygments_lexer": "ipython3",
   "version": "3.12.1"
  }
 },
 "nbformat": 4,
 "nbformat_minor": 2
}
